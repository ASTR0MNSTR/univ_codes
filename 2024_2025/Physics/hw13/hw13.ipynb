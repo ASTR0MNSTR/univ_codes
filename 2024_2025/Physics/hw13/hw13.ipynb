{
 "cells": [
  {
   "cell_type": "code",
   "execution_count": 5,
   "id": "234a1f41",
   "metadata": {},
   "outputs": [
    {
     "data": {
      "text/plain": [
       "[1.0888888888890075e-13,\n",
       " 4.1111111111112803e-14,\n",
       " 2.7544444444452034e-13,\n",
       " 3.0444444444537132e-12,\n",
       " 7.611111111111117e-16]"
      ]
     },
     "execution_count": 5,
     "metadata": {},
     "output_type": "execute_result"
    }
   ],
   "source": [
    "g = [9.8, 3.7, 24.79, 274, 0.0685]\n",
    "\n",
    "def z(g):\n",
    "    return g*1000 / (3e8*3e8) /(1- (g*1000/ (3e8*3e8)))\n",
    "\n",
    "zs = [z(item) for item in g]\n",
    "\n",
    "zs"
   ]
  }
 ],
 "metadata": {
  "kernelspec": {
   "display_name": "base",
   "language": "python",
   "name": "python3"
  },
  "language_info": {
   "codemirror_mode": {
    "name": "ipython",
    "version": 3
   },
   "file_extension": ".py",
   "mimetype": "text/x-python",
   "name": "python",
   "nbconvert_exporter": "python",
   "pygments_lexer": "ipython3",
   "version": "3.13.5"
  }
 },
 "nbformat": 4,
 "nbformat_minor": 5
}
