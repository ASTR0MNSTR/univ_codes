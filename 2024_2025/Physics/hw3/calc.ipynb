{
 "cells": [
  {
   "cell_type": "code",
   "execution_count": 7,
   "metadata": {},
   "outputs": [],
   "source": [
    "import numpy as np"
   ]
  },
  {
   "cell_type": "code",
   "execution_count": 8,
   "metadata": {},
   "outputs": [
    {
     "data": {
      "text/plain": [
       "np.float64(-0.7219280948873623)"
      ]
     },
     "execution_count": 8,
     "metadata": {},
     "output_type": "execute_result"
    }
   ],
   "source": [
    "(1/5)*np.log2(1/5)+(4/5)*np.log2(4/5)"
   ]
  },
  {
   "cell_type": "markdown",
   "metadata": {},
   "source": [
    "##### 3. H/W 3"
   ]
  },
  {
   "cell_type": "code",
   "execution_count": 9,
   "metadata": {},
   "outputs": [
    {
     "name": "stdout",
     "output_type": "stream",
     "text": [
      "Final result after N iterations:\n",
      "[[0.20069309]\n",
      " [0.19943928]\n",
      " [0.20021418]\n",
      " [0.20021418]\n",
      " [0.19943928]]\n"
     ]
    }
   ],
   "source": [
    "import numpy as np\n",
    "\n",
    "A = np.array([\n",
    "    [0,   0.5, 0,   0,   0.5],\n",
    "    [0.5, 0,   0.5, 0,   0  ],\n",
    "    [0,   0.5, 0,   0.5, 0  ],\n",
    "    [0,   0,   0.5, 0,   0.5],\n",
    "    [0.5, 0,   0,   0.5, 0  ]\n",
    "])\n",
    "\n",
    "p = np.array([\n",
    "    [1],\n",
    "    [0],\n",
    "    [0],\n",
    "    [0],\n",
    "    [0]\n",
    "])\n",
    "\n",
    "N = 30\n",
    "\n",
    "for _ in range(N):\n",
    "    p = A @ p  \n",
    "    \n",
    "print(\"Final result after N iterations:\")\n",
    "print(p)"
   ]
  }
 ],
 "metadata": {
  "kernelspec": {
   "display_name": "Python 3",
   "language": "python",
   "name": "python3"
  },
  "language_info": {
   "codemirror_mode": {
    "name": "ipython",
    "version": 3
   },
   "file_extension": ".py",
   "mimetype": "text/x-python",
   "name": "python",
   "nbconvert_exporter": "python",
   "pygments_lexer": "ipython3",
   "version": "3.13.2"
  }
 },
 "nbformat": 4,
 "nbformat_minor": 2
}
