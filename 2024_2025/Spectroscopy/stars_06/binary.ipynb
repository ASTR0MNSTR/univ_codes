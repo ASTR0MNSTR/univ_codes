{
 "cells": [
  {
   "cell_type": "code",
   "execution_count": 1,
   "id": "ef1b320c",
   "metadata": {},
   "outputs": [],
   "source": [
    "import pandas as pd\n",
    "import matplotlib.pyplot as plt\n",
    "import matplotlib as mpl\n",
    "from scipy.optimize import curve_fit\n",
    "\n",
    "import numpy as np"
   ]
  },
  {
   "cell_type": "code",
   "execution_count": 2,
   "id": "eeb2c963",
   "metadata": {},
   "outputs": [
    {
     "data": {
      "text/html": [
       "<div>\n",
       "<style scoped>\n",
       "    .dataframe tbody tr th:only-of-type {\n",
       "        vertical-align: middle;\n",
       "    }\n",
       "\n",
       "    .dataframe tbody tr th {\n",
       "        vertical-align: top;\n",
       "    }\n",
       "\n",
       "    .dataframe thead th {\n",
       "        text-align: right;\n",
       "    }\n",
       "</style>\n",
       "<table border=\"1\" class=\"dataframe\">\n",
       "  <thead>\n",
       "    <tr style=\"text-align: right;\">\n",
       "      <th></th>\n",
       "      <th>id</th>\n",
       "      <th>HJD</th>\n",
       "      <th>BCV</th>\n",
       "      <th>RV1</th>\n",
       "      <th>RV2</th>\n",
       "    </tr>\n",
       "  </thead>\n",
       "  <tbody>\n",
       "    <tr>\n",
       "      <th>0</th>\n",
       "      <td>1140</td>\n",
       "      <td>6769.673483</td>\n",
       "      <td>6.484246</td>\n",
       "      <td>-10.9452</td>\n",
       "      <td>-150.2172</td>\n",
       "    </tr>\n",
       "    <tr>\n",
       "      <th>1</th>\n",
       "      <td>1131</td>\n",
       "      <td>6790.564910</td>\n",
       "      <td>-3.409508</td>\n",
       "      <td>-5.2286</td>\n",
       "      <td>-136.3682</td>\n",
       "    </tr>\n",
       "    <tr>\n",
       "      <th>2</th>\n",
       "      <td>1130</td>\n",
       "      <td>6840.580503</td>\n",
       "      <td>-23.253550</td>\n",
       "      <td>-32.5802</td>\n",
       "      <td>-75.1153</td>\n",
       "    </tr>\n",
       "    <tr>\n",
       "      <th>3</th>\n",
       "      <td>1124</td>\n",
       "      <td>6869.527843</td>\n",
       "      <td>-27.983050</td>\n",
       "      <td>-75.1153</td>\n",
       "      <td>-23.7950</td>\n",
       "    </tr>\n",
       "    <tr>\n",
       "      <th>4</th>\n",
       "      <td>1119</td>\n",
       "      <td>6898.491687</td>\n",
       "      <td>-26.264930</td>\n",
       "      <td>10.5100</td>\n",
       "      <td>-104.1421</td>\n",
       "    </tr>\n",
       "    <tr>\n",
       "      <th>5</th>\n",
       "      <td>1120</td>\n",
       "      <td>6904.490569</td>\n",
       "      <td>-25.087140</td>\n",
       "      <td>-68.5817</td>\n",
       "      <td>-35.8785</td>\n",
       "    </tr>\n",
       "  </tbody>\n",
       "</table>\n",
       "</div>"
      ],
      "text/plain": [
       "     id          HJD        BCV      RV1       RV2\n",
       "0  1140  6769.673483   6.484246 -10.9452 -150.2172\n",
       "1  1131  6790.564910  -3.409508  -5.2286 -136.3682\n",
       "2  1130  6840.580503 -23.253550 -32.5802  -75.1153\n",
       "3  1124  6869.527843 -27.983050 -75.1153  -23.7950\n",
       "4  1119  6898.491687 -26.264930  10.5100 -104.1421\n",
       "5  1120  6904.490569 -25.087140 -68.5817  -35.8785"
      ]
     },
     "execution_count": 2,
     "metadata": {},
     "output_type": "execute_result"
    }
   ],
   "source": [
    "df = pd.read_csv(r\"D:\\progs\\fuzzy-chainsaw\\2024_2025\\Spectroscopy\\stars_06\\data.csv\", comment='#')\n",
    "\n",
    "df"
   ]
  },
  {
   "cell_type": "code",
   "execution_count": 3,
   "id": "b4aec34b",
   "metadata": {},
   "outputs": [],
   "source": [
    "T0 = 1906.0056 \n",
    "P = 8.5365711\n",
    "\n",
    "df['phase'] =  ((df['HJD'] - T0) / P) - np.floor((df['HJD'] - T0) / P)"
   ]
  },
  {
   "cell_type": "code",
   "execution_count": 4,
   "id": "eb539f3e",
   "metadata": {},
   "outputs": [],
   "source": [
    "df['RV1_corr'] = df['RV1'] - df['BCV']\n",
    "df['RV2_corr'] = df['RV2'] - df['BCV']"
   ]
  },
  {
   "cell_type": "code",
   "execution_count": 5,
   "id": "50c04564",
   "metadata": {},
   "outputs": [
    {
     "data": {
      "text/html": [
       "<div>\n",
       "<style scoped>\n",
       "    .dataframe tbody tr th:only-of-type {\n",
       "        vertical-align: middle;\n",
       "    }\n",
       "\n",
       "    .dataframe tbody tr th {\n",
       "        vertical-align: top;\n",
       "    }\n",
       "\n",
       "    .dataframe thead th {\n",
       "        text-align: right;\n",
       "    }\n",
       "</style>\n",
       "<table border=\"1\" class=\"dataframe\">\n",
       "  <thead>\n",
       "    <tr style=\"text-align: right;\">\n",
       "      <th></th>\n",
       "      <th>id</th>\n",
       "      <th>HJD</th>\n",
       "      <th>BCV</th>\n",
       "      <th>RV1</th>\n",
       "      <th>RV2</th>\n",
       "      <th>phase</th>\n",
       "      <th>RV1_corr</th>\n",
       "      <th>RV2_corr</th>\n",
       "    </tr>\n",
       "  </thead>\n",
       "  <tbody>\n",
       "    <tr>\n",
       "      <th>0</th>\n",
       "      <td>1140</td>\n",
       "      <td>6769.673483</td>\n",
       "      <td>6.484246</td>\n",
       "      <td>-10.9452</td>\n",
       "      <td>-150.2172</td>\n",
       "      <td>0.744904</td>\n",
       "      <td>-17.429446</td>\n",
       "      <td>-156.701446</td>\n",
       "    </tr>\n",
       "    <tr>\n",
       "      <th>1</th>\n",
       "      <td>1131</td>\n",
       "      <td>6790.564910</td>\n",
       "      <td>-3.409508</td>\n",
       "      <td>-5.2286</td>\n",
       "      <td>-136.3682</td>\n",
       "      <td>0.192190</td>\n",
       "      <td>-1.819092</td>\n",
       "      <td>-132.958692</td>\n",
       "    </tr>\n",
       "    <tr>\n",
       "      <th>2</th>\n",
       "      <td>1130</td>\n",
       "      <td>6840.580503</td>\n",
       "      <td>-23.253550</td>\n",
       "      <td>-32.5802</td>\n",
       "      <td>-75.1153</td>\n",
       "      <td>0.051169</td>\n",
       "      <td>-9.326650</td>\n",
       "      <td>-51.861750</td>\n",
       "    </tr>\n",
       "    <tr>\n",
       "      <th>3</th>\n",
       "      <td>1124</td>\n",
       "      <td>6869.527843</td>\n",
       "      <td>-27.983050</td>\n",
       "      <td>-75.1153</td>\n",
       "      <td>-23.7950</td>\n",
       "      <td>0.442149</td>\n",
       "      <td>-47.132250</td>\n",
       "      <td>4.188050</td>\n",
       "    </tr>\n",
       "    <tr>\n",
       "      <th>4</th>\n",
       "      <td>1119</td>\n",
       "      <td>6898.491687</td>\n",
       "      <td>-26.264930</td>\n",
       "      <td>10.5100</td>\n",
       "      <td>-104.1421</td>\n",
       "      <td>0.835062</td>\n",
       "      <td>36.774930</td>\n",
       "      <td>-77.877170</td>\n",
       "    </tr>\n",
       "    <tr>\n",
       "      <th>5</th>\n",
       "      <td>1120</td>\n",
       "      <td>6904.490569</td>\n",
       "      <td>-25.087140</td>\n",
       "      <td>-68.5817</td>\n",
       "      <td>-35.8785</td>\n",
       "      <td>0.537789</td>\n",
       "      <td>-43.494560</td>\n",
       "      <td>-10.791360</td>\n",
       "    </tr>\n",
       "  </tbody>\n",
       "</table>\n",
       "</div>"
      ],
      "text/plain": [
       "     id          HJD        BCV      RV1       RV2     phase   RV1_corr  \\\n",
       "0  1140  6769.673483   6.484246 -10.9452 -150.2172  0.744904 -17.429446   \n",
       "1  1131  6790.564910  -3.409508  -5.2286 -136.3682  0.192190  -1.819092   \n",
       "2  1130  6840.580503 -23.253550 -32.5802  -75.1153  0.051169  -9.326650   \n",
       "3  1124  6869.527843 -27.983050 -75.1153  -23.7950  0.442149 -47.132250   \n",
       "4  1119  6898.491687 -26.264930  10.5100 -104.1421  0.835062  36.774930   \n",
       "5  1120  6904.490569 -25.087140 -68.5817  -35.8785  0.537789 -43.494560   \n",
       "\n",
       "     RV2_corr  \n",
       "0 -156.701446  \n",
       "1 -132.958692  \n",
       "2  -51.861750  \n",
       "3    4.188050  \n",
       "4  -77.877170  \n",
       "5  -10.791360  "
      ]
     },
     "execution_count": 5,
     "metadata": {},
     "output_type": "execute_result"
    }
   ],
   "source": [
    "df"
   ]
  },
  {
   "cell_type": "code",
   "execution_count": 6,
   "id": "19efac27",
   "metadata": {},
   "outputs": [
    {
     "data": {
      "text/plain": [
       "Text(0, 0.5, 'Radial velocity - BCV, km/s')"
      ]
     },
     "execution_count": 6,
     "metadata": {},
     "output_type": "execute_result"
    },
    {
     "data": {
      "image/png": "[encoded data removed]",
      "text/plain": [
       "<Figure size 800x800 with 1 Axes>"
      ]
     },
     "metadata": {},
     "output_type": "display_data"
    }
   ],
   "source": [
    "fig, ax = plt.subplots(1, 1, figsize=(8,8), tight_layout = True)\n",
    "\n",
    "ax.scatter(df['phase'], df['RV1_corr'], color='slateblue', marker='.', s=25, label='Component 1')\n",
    "ax.scatter(df['phase'], df['RV2_corr'], color='red', marker='.', s=25, label='Component 2')\n",
    "\n",
    "ax.set_xlabel('Phase')\n",
    "ax.set_ylabel('Radial velocity - BCV, km/s')"
   ]
  }
 ],
 "metadata": {
  "kernelspec": {
   "display_name": "Python 3",
   "language": "python",
   "name": "python3"
  },
  "language_info": {
   "codemirror_mode": {
    "name": "ipython",
    "version": 3
   },
   "file_extension": ".py",
   "mimetype": "text/x-python",
   "name": "python",
   "nbconvert_exporter": "python",
   "pygments_lexer": "ipython3",
   "version": "3.13.2"
  }
 },
 "nbformat": 4,
 "nbformat_minor": 5
}
