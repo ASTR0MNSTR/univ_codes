{
 "cells": [
  {
   "cell_type": "markdown",
   "metadata": {},
   "source": [
    "###### Tasking:\n",
    "- [ ] Transfer data from the paper\n",
    "- [ ] Split stars into hot (>10240 K) and cold (<8623 K)\n",
    "- [ ] For hot: EW_HA vs temperature\n",
    "- [ ] For cold: EW_Na vs temperature\n",
    "- [ ] Fit functions\n",
    "- [ ] Give temperature estimation and type for three unknown stars, also tell spectral type"
   ]
  },
  {
   "cell_type": "markdown",
   "metadata": {},
   "source": []
  }
 ],
 "metadata": {
  "language_info": {
   "name": "python"
  }
 },
 "nbformat": 4,
 "nbformat_minor": 2
}
