{
 "cells": [
  {
   "cell_type": "code",
   "execution_count": 15,
   "id": "7ecc85d3",
   "metadata": {},
   "outputs": [],
   "source": [
    "import numpy as np"
   ]
  },
  {
   "cell_type": "markdown",
   "id": "1ccfab4d",
   "metadata": {},
   "source": [
    "##### Natural broadening of Halpha line, with time of electron life of 10^(-8) s"
   ]
  },
  {
   "cell_type": "code",
   "execution_count": 16,
   "id": "2ec1102d",
   "metadata": {},
   "outputs": [],
   "source": [
    "def delta_wave(wave, c, delta_t):\n",
    "    return (wave**2)/(c * 2 * np.pi * delta_t) "
   ]
  },
  {
   "cell_type": "code",
   "execution_count": 17,
   "id": "640a862c",
   "metadata": {},
   "outputs": [],
   "source": [
    "c = 3*10**8 #m/s \n",
    "delta_t = 10**(-8) #s\n",
    "wave = 6562.8*(10**(-10)) #m"
   ]
  },
  {
   "cell_type": "code",
   "execution_count": 18,
   "id": "f95c4688",
   "metadata": {},
   "outputs": [
    {
     "name": "stdout",
     "output_type": "stream",
     "text": [
      "halpha:  2.2849527076011887e-14\n"
     ]
    }
   ],
   "source": [
    "dw = delta_wave(wave, c, delta_t) \n",
    "\n",
    "print(\"halpha: \", dw)"
   ]
  },
  {
   "cell_type": "code",
   "execution_count": 19,
   "id": "2aa06877",
   "metadata": {},
   "outputs": [
    {
     "name": "stdout",
     "output_type": "stream",
     "text": [
      "hbeta:  1.2546061614627928e-14\n"
     ]
    }
   ],
   "source": [
    "wave = 4863*(10**(-10)) #m\n",
    "\n",
    "dw = delta_wave(wave, c, delta_t) \n",
    "\n",
    "print(\"hbeta: \", dw)"
   ]
  },
  {
   "cell_type": "code",
   "execution_count": 20,
   "id": "a25c4eee",
   "metadata": {},
   "outputs": [
    {
     "name": "stdout",
     "output_type": "stream",
     "text": [
      "hgamma:  9.994898727811528e-15\n"
     ]
    }
   ],
   "source": [
    "wave = 4340.5*(10**(-10)) #m\n",
    "\n",
    "dw = delta_wave(wave, c, delta_t) \n",
    "\n",
    "print(\"hgamma: \", dw)"
   ]
  },
  {
   "cell_type": "code",
   "execution_count": 21,
   "id": "7a3b3731",
   "metadata": {},
   "outputs": [
    {
     "name": "stdout",
     "output_type": "stream",
     "text": [
      "hdelta:  8.926684570204135e-15\n"
     ]
    }
   ],
   "source": [
    "wave = 4102*(10**(-10)) #m\n",
    "\n",
    "dw = delta_wave(wave, c, delta_t) \n",
    "\n",
    "print(\"hdelta: \", dw)"
   ]
  },
  {
   "cell_type": "markdown",
   "id": "9def309c",
   "metadata": {},
   "source": [
    "##### Doppler broadening due to the intrinsic velocity in stellar atmosphere"
   ]
  },
  {
   "cell_type": "code",
   "execution_count": 22,
   "id": "0a82e167",
   "metadata": {},
   "outputs": [],
   "source": [
    "wave = 6562.8*(10**(-10)) #m\n",
    "k = 1.38 * 10**(-23) #J/K\n",
    "T = 6000 #K\n",
    "m = 1.67 * 10**(-27) #kg"
   ]
  },
  {
   "cell_type": "code",
   "execution_count": 23,
   "id": "ae71f08c",
   "metadata": {},
   "outputs": [
    {
     "data": {
      "text/plain": [
       "np.float64(2.178411120499564e-11)"
      ]
     },
     "execution_count": 23,
     "metadata": {},
     "output_type": "execute_result"
    }
   ],
   "source": [
    "def doppler_atm(wave, k, T, m, c):\n",
    "    return wave * np.sqrt(2 * k * T / m)/c\n",
    "\n",
    "dw = doppler_atm(wave, k, T, m, c)\n",
    "\n",
    "dw"
   ]
  },
  {
   "cell_type": "code",
   "execution_count": 24,
   "id": "1af9a373",
   "metadata": {},
   "outputs": [
    {
     "data": {
      "text/plain": [
       "np.float64(1.6141910890152647e-11)"
      ]
     },
     "execution_count": 24,
     "metadata": {},
     "output_type": "execute_result"
    }
   ],
   "source": [
    "wave = 4863*(10**(-10)) #m\n",
    "\n",
    "dw = doppler_atm(wave, k, T, m, c)\n",
    "\n",
    "dw"
   ]
  },
  {
   "cell_type": "code",
   "execution_count": 25,
   "id": "b9a94c17",
   "metadata": {},
   "outputs": [
    {
     "data": {
      "text/plain": [
       "np.float64(1.4407559987396169e-11)"
      ]
     },
     "execution_count": 25,
     "metadata": {},
     "output_type": "execute_result"
    }
   ],
   "source": [
    "wave = 4340.5*(10**(-10)) #m\n",
    "\n",
    "dw = doppler_atm(wave, k, T, m, c)\n",
    "\n",
    "dw"
   ]
  },
  {
   "cell_type": "code",
   "execution_count": 26,
   "id": "cfd5aa3b",
   "metadata": {},
   "outputs": [
    {
     "data": {
      "text/plain": [
       "np.float64(1.36158993360901e-11)"
      ]
     },
     "execution_count": 26,
     "metadata": {},
     "output_type": "execute_result"
    }
   ],
   "source": [
    "wave = 4102*(10**(-10)) #m\n",
    "\n",
    "dw = doppler_atm(wave, k, T, m, c)\n",
    "\n",
    "dw"
   ]
  },
  {
   "cell_type": "markdown",
   "id": "7dd115f9",
   "metadata": {},
   "source": [
    "##### Poszerzenie ciśnieniowe"
   ]
  },
  {
   "cell_type": "code",
   "execution_count": 27,
   "id": "1056f868",
   "metadata": {},
   "outputs": [],
   "source": [
    "sigma = 3.52 * 10**(-16) * 10**(-4)\n",
    "n = 1.5*10**17 * 10**6\n",
    "T = 5770\n",
    "k = 1.38 * 10**(-23) #J/K\n",
    "m = 1.67 * 10**(-27) #kg\n",
    "wave = 6562.8*(10**(-10)) #m"
   ]
  },
  {
   "cell_type": "code",
   "execution_count": 28,
   "id": "83292bcc",
   "metadata": {},
   "outputs": [
    {
     "data": {
      "text/plain": [
       "np.float64(1.1781357925259705e-14)"
      ]
     },
     "execution_count": 28,
     "metadata": {},
     "output_type": "execute_result"
    }
   ],
   "source": [
    "def delta_pressure(wave, sigma, n, c, k, T, m):\n",
    "    return wave**2 * n * sigma * np.sqrt(k * T / (2*m)) / (np.pi * c)\n",
    "\n",
    "dw = delta_pressure(wave, sigma, n, c, k, T, m)\n",
    "\n",
    "dw"
   ]
  }
 ],
 "metadata": {
  "kernelspec": {
   "display_name": "Python 3",
   "language": "python",
   "name": "python3"
  },
  "language_info": {
   "codemirror_mode": {
    "name": "ipython",
    "version": 3
   },
   "file_extension": ".py",
   "mimetype": "text/x-python",
   "name": "python",
   "nbconvert_exporter": "python",
   "pygments_lexer": "ipython3",
   "version": "3.13.2"
  }
 },
 "nbformat": 4,
 "nbformat_minor": 5
}
