{
 "cells": [
  {
   "cell_type": "markdown",
   "metadata": {},
   "source": [
    "## Data-reduction pipeline"
   ]
  },
  {
   "cell_type": "code",
   "execution_count": 1,
   "metadata": {},
   "outputs": [],
   "source": [
    "import pandas as pd\n",
    "import numpy as np"
   ]
  },
  {
   "cell_type": "markdown",
   "metadata": {},
   "source": [
    "#### 1. Test parsing of GAIA file "
   ]
  },
  {
   "cell_type": "code",
   "execution_count": null,
   "metadata": {},
   "outputs": [],
   "source": [
    "path = r'E:\\progs\\fuzzy-chainsaw\\2024_2025\\Photom\\DATA\\27.12\\f135474.Dat'\n",
    "with open(path, 'r00') as f"
   ]
  },
  {
   "cell_type": "code",
   "execution_count": 2,
   "metadata": {},
   "outputs": [
    {
     "name": "stdout",
     "output_type": "stream",
     "text": [
      "<class 'pandas.core.frame.DataFrame'>\n",
      "RangeIndex: 8 entries, 0 to 7\n",
      "Data columns (total 13 columns):\n",
      " #   Column  Non-Null Count  Dtype  \n",
      "---  ------  --------------  -----  \n",
      " 0   0       8 non-null      object \n",
      " 1   1       8 non-null      float64\n",
      " 2   2       8 non-null      float64\n",
      " 3   3       8 non-null      float64\n",
      " 4   4       4 non-null      float64\n",
      " 5   5       4 non-null      float64\n",
      " 6   6       4 non-null      float64\n",
      " 7   7       4 non-null      object \n",
      " 8   8       4 non-null      float64\n",
      " 9   9       4 non-null      float64\n",
      " 10  10      4 non-null      float64\n",
      " 11  11      4 non-null      object \n",
      " 12  12      4 non-null      object \n",
      "dtypes: float64(9), object(4)\n",
      "memory usage: 964.0+ bytes\n"
     ]
    }
   ],
   "source": [
    "path = r'E:\\progs\\fuzzy-chainsaw\\2024_2025\\Photom\\DATA\\27.12\\f135474.Dat'\n",
    "\n",
    "DataFrame = pd.read_csv(path, sep=r\"\\s+\", header=None, engine='python')\n",
    "DataFrame.info()"
   ]
  }
 ],
 "metadata": {
  "kernelspec": {
   "display_name": "base",
   "language": "python",
   "name": "python3"
  },
  "language_info": {
   "codemirror_mode": {
    "name": "ipython",
    "version": 3
   },
   "file_extension": ".py",
   "mimetype": "text/x-python",
   "name": "python",
   "nbconvert_exporter": "python",
   "pygments_lexer": "ipython3",
   "version": "3.11.7"
  }
 },
 "nbformat": 4,
 "nbformat_minor": 2
}
