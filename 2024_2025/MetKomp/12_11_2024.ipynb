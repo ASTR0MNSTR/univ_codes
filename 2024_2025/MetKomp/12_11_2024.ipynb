{
 "cells": [
  {
   "cell_type": "code",
   "execution_count": 1,
   "metadata": {},
   "outputs": [],
   "source": [
    "import pandas as pd"
   ]
  },
  {
   "cell_type": "code",
   "execution_count": 2,
   "metadata": {},
   "outputs": [],
   "source": [
    "path_to_file1 = r'E:\\progs\\fuzzy-chainsaw\\2024_2025\\MetKomp\\DATA\\astronomical_data_file1.csv'\n",
    "path_to_file2 = r'E:\\progs\\fuzzy-chainsaw\\2024_2025\\MetKomp\\DATA\\astronomical_data_file2.csv'"
   ]
  },
  {
   "cell_type": "markdown",
   "metadata": {},
   "source": [
    "1. Wczytaj dane i zweryfikuj strukture"
   ]
  },
  {
   "cell_type": "code",
   "execution_count": null,
   "metadata": {},
   "outputs": [
    {
     "name": "stdout",
     "output_type": "stream",
     "text": [
      "<class 'pandas.core.frame.DataFrame'>\n",
      "RangeIndex: 1000 entries, 0 to 999\n",
      "Data columns (total 7 columns):\n",
      " #   Column       Non-Null Count  Dtype  \n",
      "---  ------       --------------  -----  \n",
      " 0   ObjectID     1000 non-null   int64  \n",
      " 1   RA           784 non-null    float64\n",
      " 2   Dec          778 non-null    float64\n",
      " 3   Brightness   814 non-null    float64\n",
      " 4   Distance     763 non-null    float64\n",
      " 5   Velocity     903 non-null    float64\n",
      " 6   Temperature  879 non-null    float64\n",
      "dtypes: float64(6), int64(1)\n",
      "memory usage: 54.8 KB\n",
      "<class 'pandas.core.frame.DataFrame'>\n",
      "RangeIndex: 1000 entries, 0 to 999\n",
      "Data columns (total 7 columns):\n",
      " #   Column       Non-Null Count  Dtype  \n",
      "---  ------       --------------  -----  \n",
      " 0   ObjectID     1000 non-null   int64  \n",
      " 1   RA           801 non-null    float64\n",
      " 2   Dec          799 non-null    float64\n",
      " 3   Brightness   780 non-null    float64\n",
      " 4   Distance     792 non-null    float64\n",
      " 5   Velocity     808 non-null    float64\n",
      " 6   Temperature  776 non-null    float64\n",
      "dtypes: float64(6), int64(1)\n",
      "memory usage: 54.8 KB\n"
     ]
    }
   ],
   "source": [
    "df1 = pd.read_csv(path_to_file1)\n",
    "df2 = pd.read_csv(path_to_file2)\n",
    "\n",
    "df1.info()\n",
    "df2.info()"
   ]
  },
  {
   "cell_type": "markdown",
   "metadata": {},
   "source": [
    "2. Rozklad brakujacych danych"
   ]
  },
  {
   "cell_type": "code",
   "execution_count": 12,
   "metadata": {},
   "outputs": [
    {
     "data": {
      "image/png": "[encoded data removed]",
      "text/plain": [
       "<Figure size 640x480 with 1 Axes>"
      ]
     },
     "metadata": {},
     "output_type": "display_data"
    }
   ],
   "source": [
    "# df1.isna()\n",
    "# df2.isna()\n",
    "\n",
    "import matplotlib.pyplot as plt\n",
    "import numpy as np\n",
    "\n",
    "plt.figure()\n",
    "coloumn_names = ['ObjectID', 'RA', 'Dec', 'Brightness', 'Distance', 'Velocity', 'Temperature']\n",
    "null_values = [df1.isna()[name].value_counts()[False] for name in coloumn_names]\n",
    "\n",
    "br1 = np.arange(0, 7, 1)\n",
    "plt.bar(br1, null_values, color='blue', width=0.4)\n",
    "plt.show()"
   ]
  },
  {
   "cell_type": "markdown",
   "metadata": {},
   "source": [
    "3. Merge"
   ]
  },
  {
   "cell_type": "code",
   "execution_count": 9,
   "metadata": {},
   "outputs": [
    {
     "name": "stdout",
     "output_type": "stream",
     "text": [
      "<class 'pandas.core.frame.DataFrame'>\n",
      "Int64Index: 1862 entries, 0 to 1861\n",
      "Data columns (total 13 columns):\n",
      " #   Column         Non-Null Count  Dtype  \n",
      "---  ------         --------------  -----  \n",
      " 0   ObjectID       1862 non-null   int64  \n",
      " 1   RA_x           921 non-null    float64\n",
      " 2   Dec_x          912 non-null    float64\n",
      " 3   Brightness_x   966 non-null    float64\n",
      " 4   Distance_x     904 non-null    float64\n",
      " 5   Velocity_x     1075 non-null   float64\n",
      " 6   Temperature_x  1043 non-null   float64\n",
      " 7   RA_y           958 non-null    float64\n",
      " 8   Dec_y          962 non-null    float64\n",
      " 9   Brightness_y   935 non-null    float64\n",
      " 10  Distance_y     946 non-null    float64\n",
      " 11  Velocity_y     972 non-null    float64\n",
      " 12  Temperature_y  908 non-null    float64\n",
      "dtypes: float64(12), int64(1)\n",
      "memory usage: 203.7 KB\n"
     ]
    }
   ],
   "source": [
    "df = pd.merge(df1, df2, how='outer', on='ObjectID')\n",
    "df.info()"
   ]
  },
  {
   "cell_type": "markdown",
   "metadata": {},
   "source": [
    "4. Uniquity"
   ]
  },
  {
   "cell_type": "code",
   "execution_count": 13,
   "metadata": {},
   "outputs": [
    {
     "name": "stdout",
     "output_type": "stream",
     "text": [
      "<class 'pandas.core.frame.DataFrame'>\n",
      "Int64Index: 513 entries, 0 to 512\n",
      "Data columns (total 13 columns):\n",
      " #   Column         Non-Null Count  Dtype  \n",
      "---  ------         --------------  -----  \n",
      " 0   ObjectID       513 non-null    int64  \n",
      " 1   RA_x           387 non-null    float64\n",
      " 2   Dec_x          382 non-null    float64\n",
      " 3   Brightness_x   421 non-null    float64\n",
      " 4   Distance_x     392 non-null    float64\n",
      " 5   Velocity_x     478 non-null    float64\n",
      " 6   Temperature_x  450 non-null    float64\n",
      " 7   RA_y           419 non-null    float64\n",
      " 8   Dec_y          428 non-null    float64\n",
      " 9   Brightness_y   411 non-null    float64\n",
      " 10  Distance_y     414 non-null    float64\n",
      " 11  Velocity_y     418 non-null    float64\n",
      " 12  Temperature_y  374 non-null    float64\n",
      "dtypes: float64(12), int64(1)\n",
      "memory usage: 56.1 KB\n"
     ]
    }
   ],
   "source": [
    "df_inner = pd.merge(df1, df2, how='inner', on='ObjectID')\n",
    "df_inner.info() "
   ]
  },
  {
   "cell_type": "code",
   "execution_count": null,
   "metadata": {},
   "outputs": [],
   "source": []
  }
 ],
 "metadata": {
  "kernelspec": {
   "display_name": "Python 3",
   "language": "python",
   "name": "python3"
  },
  "language_info": {
   "codemirror_mode": {
    "name": "ipython",
    "version": 3
   },
   "file_extension": ".py",
   "mimetype": "text/x-python",
   "name": "python",
   "nbconvert_exporter": "python",
   "pygments_lexer": "ipython3",
   "version": "3.10.10"
  }
 },
 "nbformat": 4,
 "nbformat_minor": 2
}
