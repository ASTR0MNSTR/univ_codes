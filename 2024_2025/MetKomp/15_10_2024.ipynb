{
 "cells": [
  {
   "cell_type": "markdown",
   "metadata": {},
   "source": [
    "### Class on 15 of October, 2024"
   ]
  },
  {
   "cell_type": "markdown",
   "metadata": {},
   "source": [
    "#### scipy.interpolate"
   ]
  },
  {
   "cell_type": "code",
   "execution_count": 1,
   "metadata": {},
   "outputs": [],
   "source": [
    "import matplotlib.pyplot as plt\n",
    "import numpy as np\n",
    "from scipy.interpolate import interp1d\n",
    "from scipy.interpolate import griddata"
   ]
  },
  {
   "cell_type": "markdown",
   "metadata": {},
   "source": [
    "1. Podstawowa interpolacja liniowa"
   ]
  },
  {
   "cell_type": "code",
   "execution_count": 2,
   "metadata": {},
   "outputs": [
    {
     "name": "stdout",
     "output_type": "stream",
     "text": [
      "2.5\n"
     ]
    }
   ],
   "source": [
    "x = np.array([0, 1, 2, 3, 4])\n",
    "y = np.array([0, 1, 4, 9, 16])\n",
    "\n",
    "f_linear = interp1d(x, y, kind = \"linear\")\n",
    "\n",
    "x_new = 1.5\n",
    "y_new = f_linear(x_new)\n",
    "print(y_new)"
   ]
  },
  {
   "cell_type": "markdown",
   "metadata": {},
   "source": [
    "2. Porownanie roznych metod interpolacji "
   ]
  },
  {
   "cell_type": "code",
   "execution_count": 3,
   "metadata": {},
   "outputs": [
    {
     "data": {
      "image/png": "[encoded data removed]",
      "text/plain": [
       "<Figure size 640x480 with 1 Axes>"
      ]
     },
     "metadata": {},
     "output_type": "display_data"
    }
   ],
   "source": [
    "x = np.array([0, 1, 2, 3, 4])\n",
    "y = np.array([0, 1, 4, 9, 16])\n",
    "\n",
    "f_linear = interp1d(x, y, kind = \"linear\")\n",
    "f_square = interp1d(x, y, kind = \"quadratic\")\n",
    "f_cubic = interp1d(x, y, kind = \"cubic\")\n",
    "\n",
    "x_new=np.arange(0, 4, 0.01)\n",
    "\n",
    "plt.scatter(x, y, marker='o', color='magenta', label='original')\n",
    "plt.plot(x_new, f_linear(x_new), color='black', linestyle='--', label = '1')\n",
    "plt.plot(x_new, f_square(x_new), color='orange', linestyle='-', label = '2')\n",
    "plt.plot(x_new, f_cubic(x_new), color='green', linestyle='--', label = '3')\n",
    "plt.legend()\n",
    "plt.show()"
   ]
  },
  {
   "cell_type": "markdown",
   "metadata": {},
   "source": [
    "3. Interpolacja wielowymiarowa"
   ]
  },
  {
   "cell_type": "code",
   "execution_count": 4,
   "metadata": {},
   "outputs": [],
   "source": [
    "points = np.random.rand(100, 2)\n",
    "values = np.sin(points[:, 0] * 10) * np.cos(points[:, 1] * 10)\n",
    "# xi = np.array(np.array())\n",
    "\n",
    "# yi = griddata(points, values, xi, method = 'cubic')"
   ]
  },
  {
   "cell_type": "markdown",
   "metadata": {},
   "source": [
    "#### scipy.stats"
   ]
  },
  {
   "cell_type": "code",
   "execution_count": 5,
   "metadata": {},
   "outputs": [],
   "source": [
    "from scipy.stats import ttest_ind"
   ]
  },
  {
   "cell_type": "code",
   "execution_count": 6,
   "metadata": {},
   "outputs": [],
   "source": [
    "group1 = np.random.normal(50, 10, 100)\n",
    "group2 = np.random.normal(52, 12, 100)"
   ]
  },
  {
   "cell_type": "markdown",
   "metadata": {},
   "source": [
    "1. Test t-Studenta dla dw ́och niezale  ̇znych pr ́obek"
   ]
  },
  {
   "cell_type": "code",
   "execution_count": 8,
   "metadata": {},
   "outputs": [
    {
     "name": "stdout",
     "output_type": "stream",
     "text": [
      "Statystyka testu t-Studenta: -1.0516644476100105, p-value: 0.2942353248491239\n",
      "Brak statystycznie istotnych różnic między grupami (nie odrzucamy H₀).\n"
     ]
    }
   ],
   "source": [
    "stat, p_value = ttest_ind(group1, group2)\n",
    "print(f\"Statystyka testu t-Studenta: {stat}, p-value: {p_value}\")\n",
    "\n",
    "alpha = 0.05 # poziom istotnosci - 5% ryzyka ze odrzucimy prawidlowa hipoteze\n",
    "if p_value > alpha:\n",
    "    print(\"Brak statystycznie istotnych różnic między grupami (nie odrzucamy H₀).\")\n",
    "else:\n",
    "    print(\"Istnieją statystycznie istotne różnice między grupami (odrzucamy H₀).\")\n"
   ]
  },
  {
   "cell_type": "markdown",
   "metadata": {},
   "source": [
    "2. Test chi-kwardat dla jednej próby"
   ]
  },
  {
   "cell_type": "code",
   "execution_count": 10,
   "metadata": {},
   "outputs": [
    {
     "name": "stdout",
     "output_type": "stream",
     "text": [
      "Statystyka:  3.3333333333333335 P-value:  0.3430301461382424\n",
      "Brak statystycznie istotnych różnic między grupami (nie odrzucamy H₀).\n"
     ]
    }
   ],
   "source": [
    "from scipy.stats import chisquare\n",
    "\n",
    "observed = np.array([10, 20, 30, 40])\n",
    "expected = np.array([15, 15, 30, 40])\n",
    "\n",
    "res = chisquare(observed, expected)\n",
    "print('Statystyka: ', res.statistic, 'P-value: ', res.pvalue)\n",
    "\n",
    "alpha = 0.05 # poziom istotnosci - 5% ryzyka ze odrzucimy prawidlowa hipoteze\n",
    "if res.pvalue > alpha:\n",
    "    print(\"Brak statystycznie istotnych różnic między grupami (nie odrzucamy H₀).\")\n",
    "else:\n",
    "    print(\"Istnieją statystycznie istotne różnice między grupami (odrzucamy H₀).\")"
   ]
  },
  {
   "cell_type": "markdown",
   "metadata": {},
   "source": [
    "3. Test normalnosci Shapiro-Wilka"
   ]
  },
  {
   "cell_type": "code",
   "execution_count": 11,
   "metadata": {},
   "outputs": [
    {
     "name": "stdout",
     "output_type": "stream",
     "text": [
      "Statystyka:  0.9844744205474854 P-value:  0.29087239503860474\n",
      "Brak statystycznie istotnych różnic między grupami (nie odrzucamy H₀).\n"
     ]
    }
   ],
   "source": [
    "from scipy.stats import shapiro \n",
    "\n",
    "data = np.random.normal(0, 1, 100)\n",
    "\n",
    "stats, p = shapiro(data)\n",
    "\n",
    "print('Statystyka: ', stats, 'P-value: ', p)\n",
    "\n",
    "alpha = 0.05 # poziom istotnosci - 5% ryzyka ze odrzucimy prawidlowa hipoteze\n",
    "if p > alpha:\n",
    "    print(\"Brak statystycznie istotnych różnic między grupami (nie odrzucamy H₀).\")\n",
    "else:\n",
    "    print(\"Istnieją statystycznie istotne różnice między grupami (odrzucamy H₀).\")"
   ]
  },
  {
   "cell_type": "markdown",
   "metadata": {},
   "source": [
    "4. Test korelacji Pearsona"
   ]
  },
  {
   "cell_type": "code",
   "execution_count": 12,
   "metadata": {},
   "outputs": [
    {
     "name": "stdout",
     "output_type": "stream",
     "text": [
      "Statystyka:  0.9706631093806514 P-value:  1.8079294736821658e-62\n",
      "Istnieją statystycznie istotne różnice między grupami (odrzucamy H₀).\n"
     ]
    }
   ],
   "source": [
    "from scipy.stats import pearsonr\n",
    "\n",
    "x = np.random.normal(50, 10, 100)\n",
    "y = 2 * x + np.random.normal(0, 5, 100)\n",
    "\n",
    "res = pearsonr(x, y)\n",
    "\n",
    "print('Statystyka: ', res.statistic, 'P-value: ', res.pvalue)\n",
    "\n",
    "alpha = 0.05 # poziom istotnosci - 5% ryzyka ze odrzucimy prawidlowa hipoteze\n",
    "if res.pvalue > alpha:\n",
    "    print(\"Brak statystycznie istotnych różnic między grupami (nie odrzucamy H₀).\")\n",
    "else:\n",
    "    print(\"Istnieją statystycznie istotne różnice między grupami (odrzucamy H₀).\")"
   ]
  }
 ],
 "metadata": {
  "kernelspec": {
   "display_name": "Python 3",
   "language": "python",
   "name": "python3"
  },
  "language_info": {
   "codemirror_mode": {
    "name": "ipython",
    "version": 3
   },
   "file_extension": ".py",
   "mimetype": "text/x-python",
   "name": "python",
   "nbconvert_exporter": "python",
   "pygments_lexer": "ipython3",
   "version": "3.10.10"
  }
 },
 "nbformat": 4,
 "nbformat_minor": 2
}
