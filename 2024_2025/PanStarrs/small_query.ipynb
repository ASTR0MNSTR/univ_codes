{
 "cells": [
  {
   "cell_type": "code",
   "execution_count": 1,
   "metadata": {},
   "outputs": [],
   "source": [
    "import pandas as pd\n",
    "import numpy as np"
   ]
  },
  {
   "cell_type": "code",
   "execution_count": 2,
   "metadata": {},
   "outputs": [
    {
     "name": "stdout",
     "output_type": "stream",
     "text": [
      "167.42960000000002\n",
      "-12.563641666666667\n"
     ]
    }
   ],
   "source": [
    "RA_h = 11\n",
    "RA_m = 9\n",
    "RA_s = 43.104\n",
    "DEC_deg = -12\n",
    "DEC_m = -33\n",
    "DEC_s = -49.11\n",
    "\n",
    "RA = (RA_h + RA_m/60 + RA_s/3600)*360/24\n",
    "DEC = DEC_deg + DEC_m/60 + DEC_s/3600\n",
    "\n",
    "print(RA)\n",
    "print(DEC)"
   ]
  },
  {
   "cell_type": "code",
   "execution_count": 3,
   "metadata": {},
   "outputs": [
    {
     "name": "stdout",
     "output_type": "stream",
     "text": [
      "<bound method DataFrame.info of                     objName              objID  objInfoFlag  qualityFlag  \\\n",
      "257   PSO J167.2392-12.4519  93051672392008122    436527104           52   \n",
      "276   PSO J167.2514-12.4520  93051672514367935    436527104           52   \n",
      "311   PSO J167.2740-12.4559  93051672740053315    436527104           52   \n",
      "312   PSO J167.2765-12.4558  93051672765113386    436527104           52   \n",
      "576   PSO J167.1917-12.6589  92801671917159744    436527104           52   \n",
      "...                     ...                ...          ...          ...   \n",
      "9364  PSO J167.3576-12.3597  93161673575908684    436527104           52   \n",
      "9388  PSO J167.3648-12.3629  93161673648754882    436527104           52   \n",
      "9435  PSO J167.3995-12.9181  92491673996068683    436527104           52   \n",
      "9574  PSO J167.2924-12.7065  92751672924832713    436527104           52   \n",
      "9611  PSO J167.3189-12.7049  92751673189214552    503635968           60   \n",
      "\n",
      "          raMean    decMean     epochMean  ng  nr  ni  ...  gMeanApMagErr  \\\n",
      "257   167.239197 -12.451922  56859.502655   3   5   2  ...       0.459545   \n",
      "276   167.251436 -12.452040  56684.498418   3  11  18  ...       0.259409   \n",
      "311   167.274035 -12.455912  56781.533181   1   2  14  ...       0.199348   \n",
      "312   167.276469 -12.455845  56652.785373   9  14  16  ...       0.036754   \n",
      "576   167.191722 -12.658889  56535.301343   6  10  11  ...       0.014784   \n",
      "...          ...        ...           ...  ..  ..  ..  ...            ...   \n",
      "9364  167.357561 -12.359727  56634.543140   8  11  18  ...       0.063005   \n",
      "9388  167.364844 -12.362946  56765.718066   8  16  12  ...       0.040265   \n",
      "9435  167.399551 -12.918068  56630.323545  16  17  18  ...       0.023365   \n",
      "9574  167.292424 -12.706437  56464.347130  11  15  16  ...       0.061263   \n",
      "9611  167.318912 -12.704892  56581.760619  11  16  20  ...       0.030300   \n",
      "\n",
      "      rMeanApMag  rMeanApMagErr  iMeanApMag  iMeanApMagErr  zMeanApMag  \\\n",
      "257    21.839199       0.109623   20.688700       0.439295   21.205400   \n",
      "276    20.929600       0.031166   20.163200       0.031186   19.957100   \n",
      "311    23.010099       0.161351   21.055901       0.071850   21.166201   \n",
      "312    19.010099       0.023000   18.541599       0.009138   18.359600   \n",
      "576    20.642799       0.135800   20.531401       0.036017   20.297100   \n",
      "...          ...            ...         ...            ...         ...   \n",
      "9364   20.237200       0.046184   20.175301       0.074510   20.214199   \n",
      "9388   18.591900       0.007090   18.445999       0.006323   18.444901   \n",
      "9435   19.086000       0.012736   18.909300       0.013582   18.806101   \n",
      "9574   20.428499       0.032860   19.998100       0.016003   19.684200   \n",
      "9611   18.353701       0.006990   17.683599       0.005931   17.316799   \n",
      "\n",
      "      zMeanApMagErr  yMeanApMag  yMeanApMagErr       dist  \n",
      "257        0.186127 -999.000000    -999.000000  13.225879  \n",
      "276        0.046282   19.331800       0.169282  12.645553  \n",
      "311        0.097468 -999.000000    -999.000000  11.470028  \n",
      "312        0.010392   18.182400       0.031988  11.365973  \n",
      "576        0.047981   20.147100       0.094993  14.064028  \n",
      "...             ...         ...            ...        ...  \n",
      "9364       0.061047   21.548401       0.016254  13.980131  \n",
      "9388       0.010102   18.245701       0.039645  13.691380  \n",
      "9435       0.017182   18.775499       0.050581  19.962566  \n",
      "9574       0.041521   19.527901       0.087218  10.297993  \n",
      "9611       0.006577   17.133699       0.015625   9.163926  \n",
      "\n",
      "[126 rows x 23 columns]>\n"
     ]
    }
   ],
   "source": [
    "path = r'E:\\progs\\fuzzy-chainsaw\\2024_2025\\PanStarrs\\DATA\\PS-10_22_2024.csv'\n",
    "DataFrame = pd.read_csv(path)\n",
    "\n",
    "DataFrame['dist'] = np.sqrt((DataFrame['raMean'] - 167.4144)**2 + (DataFrame['decMean'] + 12.58569)**2)*60 #arcmin\n",
    "df_det = DataFrame.query('gMeanApMag > 0 & rMeanApMag > 0 & iMeanApMag > 0 & zMeanApMag > 0 & dist < 20')\n",
    "print(df_det.info)\n",
    "\n",
    "# DataFrame['dist_star'] = np.sqrt((DataFrame['raMean'] - 167.4296)**2 + (DataFrame['decMean'] - (-12.563641666666667))**2)*60 #arcmin\n",
    "# df_det = DataFrame.query('gMeanApMag > 0 & rMeanApMag > 0 & iMeanApMag > 0 & zMeanApMag > 0 & dist_star < 5')\n",
    "# print(df_det.info)\n",
    "\n",
    "df_det.to_csv(r'E:\\progs\\fuzzy-chainsaw\\2024_2025\\PanStarrs\\DATA\\det.csv', index = False)"
   ]
  },
  {
   "cell_type": "code",
   "execution_count": 4,
   "metadata": {},
   "outputs": [],
   "source": [
    "# for index, row in df_det.iterrows():\n",
    "#     row['raMean']"
   ]
  },
  {
   "cell_type": "markdown",
   "metadata": {},
   "source": [
    "### Transformation of magnitudes"
   ]
  },
  {
   "cell_type": "code",
   "execution_count": 5,
   "metadata": {},
   "outputs": [
    {
     "name": "stdout",
     "output_type": "stream",
     "text": [
      "18.033068951416016\n",
      "17.705330384826663\n"
     ]
    }
   ],
   "source": [
    "g = 18.24329948425293\n",
    "r = 17.88640022277832\n",
    "i = 17.75979995727539\n",
    "\n",
    "V = g - 0.5784*(g - r) - 0.0038\n",
    "R = r - 0.2936*(r - i) - 0.1439\n",
    "\n",
    "print(V)\n",
    "print(R)"
   ]
  },
  {
   "cell_type": "markdown",
   "metadata": {},
   "source": []
  }
 ],
 "metadata": {
  "kernelspec": {
   "display_name": "Python 3",
   "language": "python",
   "name": "python3"
  },
  "language_info": {
   "codemirror_mode": {
    "name": "ipython",
    "version": 3
   },
   "file_extension": ".py",
   "mimetype": "text/x-python",
   "name": "python",
   "nbconvert_exporter": "python",
   "pygments_lexer": "ipython3",
   "version": "3.10.10"
  }
 },
 "nbformat": 4,
 "nbformat_minor": 2
}
