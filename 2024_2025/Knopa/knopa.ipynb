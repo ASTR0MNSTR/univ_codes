{
 "cells": [
  {
   "cell_type": "code",
   "execution_count": 2,
   "metadata": {},
   "outputs": [
    {
     "ename": "TypeError",
     "evalue": "incompatible dimensions [[[10], [10]], [[10], [10]]] and [[10, 10, 10], [10, 10, 10]]",
     "output_type": "error",
     "traceback": [
      "\u001b[1;31m---------------------------------------------------------------------------\u001b[0m",
      "\u001b[1;31mTypeError\u001b[0m                                 Traceback (most recent call last)",
      "Cell \u001b[1;32mIn[2], line 40\u001b[0m\n\u001b[0;32m     37\u001b[0m tlist \u001b[38;5;241m=\u001b[39m np\u001b[38;5;241m.\u001b[39mlinspace(\u001b[38;5;241m0\u001b[39m, \u001b[38;5;241m0.1\u001b[39m, \u001b[38;5;241m200\u001b[39m)\n\u001b[0;32m     39\u001b[0m \u001b[38;5;66;03m# Обчислення g^(2)(τ) для кожного режиму\u001b[39;00m\n\u001b[1;32m---> 40\u001b[0m corr_smr \u001b[38;5;241m=\u001b[39m correlation_2op_2t(H, psi0, tlist, tlist, c_ops, a\u001b[38;5;241m.\u001b[39mdag() \u001b[38;5;241m*\u001b[39m a, a\u001b[38;5;241m.\u001b[39mdag() \u001b[38;5;241m*\u001b[39m a)\n\u001b[0;32m     41\u001b[0m corr_qd \u001b[38;5;241m=\u001b[39m correlation_2op_2t(H, psi0, tlist, tlist, c_ops, b\u001b[38;5;241m.\u001b[39mdag() \u001b[38;5;241m*\u001b[39m b, b\u001b[38;5;241m.\u001b[39mdag() \u001b[38;5;241m*\u001b[39m b)\n\u001b[0;32m     42\u001b[0m corr_hybrid \u001b[38;5;241m=\u001b[39m correlation_2op_2t(H, psi0, tlist, tlist, c_ops, c\u001b[38;5;241m.\u001b[39mdag() \u001b[38;5;241m*\u001b[39m c, c\u001b[38;5;241m.\u001b[39mdag() \u001b[38;5;241m*\u001b[39m c)\n",
      "File \u001b[1;32mc:\\Users\\ALEZHA_ACTIVE\\Anaconda3\\Lib\\site-packages\\qutip\\solver\\correlation.py:163\u001b[0m, in \u001b[0;36mcorrelation_2op_2t\u001b[1;34m(H, state0, tlist, taulist, c_ops, a_op, b_op, solver, reverse, args, options)\u001b[0m\n\u001b[0;32m    160\u001b[0m \u001b[38;5;28;01melse\u001b[39;00m:\n\u001b[0;32m    161\u001b[0m     A_op, B_op, C_op \u001b[38;5;241m=\u001b[39m \u001b[38;5;241m1\u001b[39m, a_op, b_op\n\u001b[1;32m--> 163\u001b[0m \u001b[38;5;28;01mreturn\u001b[39;00m correlation_3op(solver, state0, tlist, taulist, A_op, B_op, C_op)\n",
      "File \u001b[1;32mc:\\Users\\ALEZHA_ACTIVE\\Anaconda3\\Lib\\site-packages\\qutip\\solver\\correlation.py:483\u001b[0m, in \u001b[0;36mcorrelation_3op\u001b[1;34m(solver, state0, tlist, taulist, A, B, C)\u001b[0m\n\u001b[0;32m    480\u001b[0m C \u001b[38;5;241m=\u001b[39m QobjEvo(qeye_like(state0) \u001b[38;5;28;01mif\u001b[39;00m C \u001b[38;5;129;01min\u001b[39;00m [\u001b[38;5;28;01mNone\u001b[39;00m, \u001b[38;5;241m1\u001b[39m] \u001b[38;5;28;01melse\u001b[39;00m C)\n\u001b[0;32m    482\u001b[0m \u001b[38;5;28;01mif\u001b[39;00m \u001b[38;5;28misinstance\u001b[39m(solver, (MESolver, BRSolver)):\n\u001b[1;32m--> 483\u001b[0m     out \u001b[38;5;241m=\u001b[39m _correlation_3op_dm(solver, state0, tlist, taulist, A, B, C)\n\u001b[0;32m    484\u001b[0m \u001b[38;5;28;01melif\u001b[39;00m \u001b[38;5;28misinstance\u001b[39m(solver, MCSolver):\n\u001b[0;32m    485\u001b[0m     \u001b[38;5;28;01mraise\u001b[39;00m \u001b[38;5;167;01mTypeError\u001b[39;00m(\u001b[38;5;124m\"\u001b[39m\u001b[38;5;124mMonte Carlo support for correlation was removed. \u001b[39m\u001b[38;5;124m\"\u001b[39m\n\u001b[0;32m    486\u001b[0m                     \u001b[38;5;124m\"\u001b[39m\u001b[38;5;124mPlease, tell us on GitHub issues if you need it!\u001b[39m\u001b[38;5;124m\"\u001b[39m)\n",
      "File \u001b[1;32mc:\\Users\\ALEZHA_ACTIVE\\Anaconda3\\Lib\\site-packages\\qutip\\solver\\correlation.py:508\u001b[0m, in \u001b[0;36m_correlation_3op_dm\u001b[1;34m(solver, state0, tlist, taulist, A, B, C)\u001b[0m\n\u001b[0;32m    503\u001b[0m solver\u001b[38;5;241m.\u001b[39moptions[\u001b[38;5;124m\"\u001b[39m\u001b[38;5;124mprogress_bar\u001b[39m\u001b[38;5;124m\"\u001b[39m] \u001b[38;5;241m=\u001b[39m \u001b[38;5;28;01mFalse\u001b[39;00m\n\u001b[0;32m    505\u001b[0m progress_bar \u001b[38;5;241m=\u001b[39m progress_bars[old_opt[\u001b[38;5;124m'\u001b[39m\u001b[38;5;124mprogress_bar\u001b[39m\u001b[38;5;124m'\u001b[39m]](\n\u001b[0;32m    506\u001b[0m     \u001b[38;5;28mlen\u001b[39m(taulist) \u001b[38;5;241m+\u001b[39m \u001b[38;5;241m1\u001b[39m, \u001b[38;5;241m*\u001b[39m\u001b[38;5;241m*\u001b[39mold_opt[\u001b[38;5;124m'\u001b[39m\u001b[38;5;124mprogress_kwargs\u001b[39m\u001b[38;5;124m'\u001b[39m]\n\u001b[0;32m    507\u001b[0m )\n\u001b[1;32m--> 508\u001b[0m rho_t \u001b[38;5;241m=\u001b[39m solver\u001b[38;5;241m.\u001b[39mrun(state0, tlist)\u001b[38;5;241m.\u001b[39mstates\n\u001b[0;32m    509\u001b[0m corr_mat \u001b[38;5;241m=\u001b[39m np\u001b[38;5;241m.\u001b[39mzeros([np\u001b[38;5;241m.\u001b[39msize(tlist), np\u001b[38;5;241m.\u001b[39msize(taulist)], dtype\u001b[38;5;241m=\u001b[39m\u001b[38;5;28mcomplex\u001b[39m)\n\u001b[0;32m    510\u001b[0m progress_bar\u001b[38;5;241m.\u001b[39mupdate()\n",
      "File \u001b[1;32mc:\\Users\\ALEZHA_ACTIVE\\Anaconda3\\Lib\\site-packages\\qutip\\solver\\solver_base.py:169\u001b[0m, in \u001b[0;36mSolver.run\u001b[1;34m(self, state0, tlist, args, e_ops)\u001b[0m\n\u001b[0;32m    135\u001b[0m \u001b[38;5;250m\u001b[39m\u001b[38;5;124;03m\"\"\"\u001b[39;00m\n\u001b[0;32m    136\u001b[0m \u001b[38;5;124;03mDo the evolution of the Quantum system.\u001b[39;00m\n\u001b[0;32m    137\u001b[0m \n\u001b[1;32m   (...)\u001b[0m\n\u001b[0;32m    166\u001b[0m \u001b[38;5;124;03m    can control the saved data in the options.\u001b[39;00m\n\u001b[0;32m    167\u001b[0m \u001b[38;5;124;03m\"\"\"\u001b[39;00m\n\u001b[0;32m    168\u001b[0m _time_start \u001b[38;5;241m=\u001b[39m time()\n\u001b[1;32m--> 169\u001b[0m _data0 \u001b[38;5;241m=\u001b[39m \u001b[38;5;28mself\u001b[39m\u001b[38;5;241m.\u001b[39m_prepare_state(state0)\n\u001b[0;32m    170\u001b[0m \u001b[38;5;28mself\u001b[39m\u001b[38;5;241m.\u001b[39m_integrator\u001b[38;5;241m.\u001b[39mset_state(tlist[\u001b[38;5;241m0\u001b[39m], _data0)\n\u001b[0;32m    171\u001b[0m \u001b[38;5;28mself\u001b[39m\u001b[38;5;241m.\u001b[39m_argument(args)\n",
      "File \u001b[1;32mc:\\Users\\ALEZHA_ACTIVE\\Anaconda3\\Lib\\site-packages\\qutip\\solver\\solver_base.py:85\u001b[0m, in \u001b[0;36mSolver._prepare_state\u001b[1;34m(self, state)\u001b[0m\n\u001b[0;32m     79\u001b[0m     state \u001b[38;5;241m=\u001b[39m ket2dm(state)\n\u001b[0;32m     81\u001b[0m \u001b[38;5;28;01mif\u001b[39;00m (\n\u001b[0;32m     82\u001b[0m     \u001b[38;5;28mself\u001b[39m\u001b[38;5;241m.\u001b[39mrhs\u001b[38;5;241m.\u001b[39mdims[\u001b[38;5;241m1\u001b[39m] \u001b[38;5;241m!=\u001b[39m state\u001b[38;5;241m.\u001b[39mdims[\u001b[38;5;241m0\u001b[39m]\n\u001b[0;32m     83\u001b[0m     \u001b[38;5;129;01mand\u001b[39;00m \u001b[38;5;28mself\u001b[39m\u001b[38;5;241m.\u001b[39mrhs\u001b[38;5;241m.\u001b[39mdims[\u001b[38;5;241m1\u001b[39m] \u001b[38;5;241m!=\u001b[39m state\u001b[38;5;241m.\u001b[39mdims\n\u001b[0;32m     84\u001b[0m ):\n\u001b[1;32m---> 85\u001b[0m     \u001b[38;5;28;01mraise\u001b[39;00m \u001b[38;5;167;01mTypeError\u001b[39;00m(\u001b[38;5;124mf\u001b[39m\u001b[38;5;124m\"\u001b[39m\u001b[38;5;124mincompatible dimensions \u001b[39m\u001b[38;5;132;01m{\u001b[39;00m\u001b[38;5;28mself\u001b[39m\u001b[38;5;241m.\u001b[39mrhs\u001b[38;5;241m.\u001b[39mdims\u001b[38;5;132;01m}\u001b[39;00m\u001b[38;5;124m\"\u001b[39m\n\u001b[0;32m     86\u001b[0m                     \u001b[38;5;124mf\u001b[39m\u001b[38;5;124m\"\u001b[39m\u001b[38;5;124m and \u001b[39m\u001b[38;5;132;01m{\u001b[39;00mstate\u001b[38;5;241m.\u001b[39mdims\u001b[38;5;132;01m}\u001b[39;00m\u001b[38;5;124m\"\u001b[39m)\n\u001b[0;32m     88\u001b[0m \u001b[38;5;28mself\u001b[39m\u001b[38;5;241m.\u001b[39m_state_metadata \u001b[38;5;241m=\u001b[39m {\n\u001b[0;32m     89\u001b[0m     \u001b[38;5;124m'\u001b[39m\u001b[38;5;124mdims\u001b[39m\u001b[38;5;124m'\u001b[39m: state\u001b[38;5;241m.\u001b[39m_dims,\n\u001b[0;32m     90\u001b[0m     \u001b[38;5;66;03m# This is herm flag take for granted that the liouvillian keep\u001b[39;00m\n\u001b[1;32m   (...)\u001b[0m\n\u001b[0;32m     93\u001b[0m     \u001b[38;5;124m'\u001b[39m\u001b[38;5;124misherm\u001b[39m\u001b[38;5;124m'\u001b[39m: state\u001b[38;5;241m.\u001b[39misherm \u001b[38;5;129;01mand\u001b[39;00m \u001b[38;5;129;01mnot\u001b[39;00m (\u001b[38;5;28mself\u001b[39m\u001b[38;5;241m.\u001b[39mrhs\u001b[38;5;241m.\u001b[39mdims \u001b[38;5;241m==\u001b[39m state\u001b[38;5;241m.\u001b[39mdims)\n\u001b[0;32m     94\u001b[0m }\n\u001b[0;32m     95\u001b[0m \u001b[38;5;28;01mif\u001b[39;00m state\u001b[38;5;241m.\u001b[39misket:\n",
      "\u001b[1;31mTypeError\u001b[0m: incompatible dimensions [[[10], [10]], [[10], [10]]] and [[10, 10, 10], [10, 10, 10]]"
     ]
    }
   ],
   "source": [
    "import numpy as np\n",
    "import matplotlib.pyplot as plt\n",
    "from qutip import *\n",
    "\n",
    "# Параметри системи\n",
    "omega_smr = 1.0   # Частота SMR\n",
    "omega_qd = 0.9    # Частота QD\n",
    "omega_hybrid = 0.95  # Гібридна частота (наприклад)\n",
    "g = 0.1           # Взаємодія між SMR і QD\n",
    "kappa = 0.01      # Затухання\n",
    "\n",
    "# Оператори створення/знищення для кожного режиму\n",
    "a = destroy(10)  # SMR mode\n",
    "b = destroy(10)  # QD mode\n",
    "c = destroy(10)  # Hybrid mode\n",
    "\n",
    "# Гамільтоніан системи\n",
    "H = (\n",
    "    omega_smr * a.dag() * a +\n",
    "    omega_qd * b.dag() * b +\n",
    "    omega_hybrid * c.dag() * c +\n",
    "    g * (a.dag() * b + a * b.dag()) +  # Взаємодія SMR-QD\n",
    "    g * (b.dag() * c + b * c.dag())   # Взаємодія QD-Hybrid\n",
    ")\n",
    "\n",
    "# Початковий стан (вакуумний стан для всіх режимів)\n",
    "psi0 = tensor(fock(10, 0), fock(10, 0), fock(10, 0))\n",
    "\n",
    "# Оператори затухання (за потреби)\n",
    "c_ops = [\n",
    "    np.sqrt(kappa) * a,  # Затухання для SMR\n",
    "    np.sqrt(kappa) * b,  # Затухання для QD\n",
    "    np.sqrt(kappa) * c   # Затухання для Hybrid\n",
    "]\n",
    "\n",
    "# Масив часу\n",
    "tlist = np.linspace(0, 0.1, 200)\n",
    "\n",
    "# Обчислення g^(2)(τ) для кожного режиму\n",
    "corr_smr = correlation_2op_2t(H, psi0, tlist, tlist, c_ops, a.dag() * a, a.dag() * a)\n",
    "corr_qd = correlation_2op_2t(H, psi0, tlist, tlist, c_ops, b.dag() * b, b.dag() * b)\n",
    "corr_hybrid = correlation_2op_2t(H, psi0, tlist, tlist, c_ops, c.dag() * c, c.dag() * c)\n",
    "\n",
    "# Візуалізація результатів\n",
    "plt.figure(figsize=(10, 6))\n",
    "plt.plot(tlist, corr_smr.real, 'b--', label=r\"$g^{(2)}_{SMR}(\\tau)$ (i = a)\")\n",
    "plt.plot(tlist, corr_qd.real, 'r:', label=r\"$g^{(2)}_{QD}(\\tau)$ (i = b)\")\n",
    "plt.plot(tlist, corr_hybrid.real, 'k-', label=r\"$g^{(2)}_{Hybrid}(\\tau)$ (i = c)\")\n",
    "plt.xlabel(r\"$\\tau$\")\n",
    "plt.ylabel(r\"$g^{(2)}(\\tau)$\")\n",
    "plt.legend()\n",
    "plt.title(\"Second-order correlation functions for different modes\")\n",
    "plt.grid(True)\n",
    "plt.show()"
   ]
  }
 ],
 "metadata": {
  "kernelspec": {
   "display_name": "base",
   "language": "python",
   "name": "python3"
  },
  "language_info": {
   "codemirror_mode": {
    "name": "ipython",
    "version": 3
   },
   "file_extension": ".py",
   "mimetype": "text/x-python",
   "name": "python",
   "nbconvert_exporter": "python",
   "pygments_lexer": "ipython3",
   "version": "3.11.7"
  }
 },
 "nbformat": 4,
 "nbformat_minor": 2
}
