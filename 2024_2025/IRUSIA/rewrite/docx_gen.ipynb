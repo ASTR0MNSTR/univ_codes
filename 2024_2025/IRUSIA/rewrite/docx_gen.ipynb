{
 "cells": [
  {
   "cell_type": "code",
   "execution_count": 1,
   "id": "b3fe04e2",
   "metadata": {},
   "outputs": [
    {
     "name": "stdout",
     "output_type": "stream",
     "text": [
      "Document created: test_special_characters.docx\n"
     ]
    }
   ],
   "source": [
    "from docx import Document\n",
    "\n",
    "# Define invisible/special characters\n",
    "special_chars = {\n",
    "    \"Zero-width space\": \"\\u200b\",\n",
    "    \"Zero-width non-joiner\": \"\\u200c\",\n",
    "    \"Zero-width joiner\": \"\\u200d\",\n",
    "    \"BOM (Byte Order Mark)\": \"\\ufeff\",\n",
    "    \"Word joiner\": \"\\u2060\",\n",
    "    \"Non-breaking space\": \"\\u00a0\",\n",
    "    \"Left-to-right override\": \"\\u202d\",\n",
    "    \"Right-to-left override\": \"\\u202e\"\n",
    "}\n",
    "\n",
    "# Create a new document\n",
    "doc = Document()\n",
    "doc.add_heading(\"Test Document with Special Characters\", level=1)\n",
    "\n",
    "# Add paragraphs with each special character\n",
    "for name, char in special_chars.items():\n",
    "    para = doc.add_paragraph()\n",
    "    para.add_run(f\"{name}: before{char}after\")\n",
    "\n",
    "# Add a clean paragraph for comparison\n",
    "doc.add_paragraph(\"This is a clean paragraph.\")\n",
    "\n",
    "# Save the document\n",
    "doc.save(\"test_special_characters.docx\")\n",
    "print(\"Document created: test_special_characters.docx\")"
   ]
  }
 ],
 "metadata": {
  "kernelspec": {
   "display_name": "Python 3",
   "language": "python",
   "name": "python3"
  },
  "language_info": {
   "codemirror_mode": {
    "name": "ipython",
    "version": 3
   },
   "file_extension": ".py",
   "mimetype": "text/x-python",
   "name": "python",
   "nbconvert_exporter": "python",
   "pygments_lexer": "ipython3",
   "version": "3.13.2"
  }
 },
 "nbformat": 4,
 "nbformat_minor": 5
}
