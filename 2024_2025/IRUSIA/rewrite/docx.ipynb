{
 "cells": [
  {
   "cell_type": "code",
   "execution_count": 1,
   "id": "bb9d8545",
   "metadata": {},
   "outputs": [
    {
     "name": "stdout",
     "output_type": "stream",
     "text": [
      "Before: Zero-width space: before[200b]after\n",
      "Before: Zero-width non-joiner: before[200c]after\n",
      "Before: Zero-width joiner: before[200d]after\n",
      "Before: BOM (Byte Order Mark): before[feff]after\n",
      "Before: Word joiner: before[2060]after\n",
      "Before: Non-breaking space: before[00a0]after\n",
      "Before: Left-to-right override: before[202d]after\n",
      "Before: Right-to-left override: before[202e]after\n"
     ]
    }
   ],
   "source": [
    "from docx import Document\n",
    "\n",
    "# Characters to clean\n",
    "INVISIBLE_UNICODE = [\n",
    "    '\\u200b', '\\u200c', '\\u200d', '\\ufeff', '\\u2060', \n",
    "    '\\u00a0', '\\u202c', '\\u202d', '\\u202e'\n",
    "]\n",
    "\n",
    "def clean_text(text):\n",
    "    for char in INVISIBLE_UNICODE:\n",
    "        text = text.replace(char, '')\n",
    "    return text\n",
    "\n",
    "def show_unicode_codes(text):\n",
    "    return ''.join(\n",
    "        f\"[{ord(c):04x}]\" if c in INVISIBLE_UNICODE else c\n",
    "        for c in text\n",
    "    )\n",
    "\n",
    "def clean_document(input_path, output_path):\n",
    "    doc = Document(input_path)\n",
    "\n",
    "    # Clean paragraph text\n",
    "    for para in doc.paragraphs:\n",
    "        if any(c in para.text for c in INVISIBLE_UNICODE):\n",
    "            print(\"Before:\", show_unicode_codes(para.text))\n",
    "        cleaned = clean_text(para.text)\n",
    "        para.text = cleaned\n",
    "        if cleaned != para.text:\n",
    "            print(\"After :\", cleaned)\n",
    "            print(\"-\" * 30)\n",
    "\n",
    "    # Clean tables\n",
    "    for table in doc.tables:\n",
    "        for row in table.rows:\n",
    "            for cell in row.cells:\n",
    "                cell.text = clean_text(cell.text)\n",
    "\n",
    "    # Attempt to clean headers/footers (for watermark removal)\n",
    "    for section in doc.sections:\n",
    "        header = section.header\n",
    "        for para in header.paragraphs:\n",
    "            para.text = clean_text(para.text)\n",
    "        footer = section.footer\n",
    "        for para in footer.paragraphs:\n",
    "            para.text = clean_text(para.text)\n",
    "\n",
    "    doc.save(output_path)\n",
    "\n",
    "# Run on your file\n",
    "clean_document('test_special_characters.docx', 'r_clean.docx')"
   ]
  }
 ],
 "metadata": {
  "kernelspec": {
   "display_name": "Python 3",
   "language": "python",
   "name": "python3"
  },
  "language_info": {
   "codemirror_mode": {
    "name": "ipython",
    "version": 3
   },
   "file_extension": ".py",
   "mimetype": "text/x-python",
   "name": "python",
   "nbconvert_exporter": "python",
   "pygments_lexer": "ipython3",
   "version": "3.13.2"
  }
 },
 "nbformat": 4,
 "nbformat_minor": 5
}
