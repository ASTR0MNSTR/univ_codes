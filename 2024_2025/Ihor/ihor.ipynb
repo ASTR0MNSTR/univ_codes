{
 "cells": [
  {
   "cell_type": "code",
   "execution_count": 19,
   "metadata": {},
   "outputs": [],
   "source": [
    "import numpy as np\n",
    "import time"
   ]
  },
  {
   "cell_type": "code",
   "execution_count": 20,
   "metadata": {},
   "outputs": [
    {
     "name": "stdout",
     "output_type": "stream",
     "text": [
      "1.0\n",
      "0.0009710788726806641\n"
     ]
    }
   ],
   "source": [
    "# a=int(input())\n",
    "# b=int(input())\n",
    "# c=int(input())\n",
    "\n",
    "#ax^2+bx+c=0\n",
    "\n",
    "start = time.time()\n",
    "\n",
    "a = 1\n",
    "b = -2\n",
    "c = 1\n",
    "\n",
    "D=(b**2)-(4*a*c)\n",
    "if D>0:\n",
    "    x1=(-b+np.sqrt(D))/(2*a)\n",
    "    x2=(-b-np.sqrt(D))/(2*a)\n",
    "    print(x1 , x2)\n",
    "elif D==0:\n",
    "    x=-(b/2*a)\n",
    "    print(x)\n",
    "else:\n",
    "    print(\"Немає рішень\")\n",
    "    \n",
    "end = time.time()\n",
    "\n",
    "print(end - start)"
   ]
  },
  {
   "cell_type": "code",
   "execution_count": 22,
   "metadata": {},
   "outputs": [
    {
     "name": "stdout",
     "output_type": "stream",
     "text": [
      "0.0005028247833251953\n"
     ]
    }
   ],
   "source": [
    "import numpy as np\n",
    "\n",
    "start = time.time()\n",
    "\n",
    "a = 1\n",
    "b = 2\n",
    "c = 1\n",
    "d = 0.5\n",
    "e = 4\n",
    "# x^4 + 2x^3 + x^2 + 0.5x + 4 = 0 \n",
    "coeff = [a, b, c]\n",
    "np.roots(coeff)\n",
    "\n",
    "end = time.time()\n",
    "\n",
    "print(end - start)"
   ]
  }
 ],
 "metadata": {
  "kernelspec": {
   "display_name": "base",
   "language": "python",
   "name": "python3"
  },
  "language_info": {
   "codemirror_mode": {
    "name": "ipython",
    "version": 3
   },
   "file_extension": ".py",
   "mimetype": "text/x-python",
   "name": "python",
   "nbconvert_exporter": "python",
   "pygments_lexer": "ipython3",
   "version": "3.11.7"
  }
 },
 "nbformat": 4,
 "nbformat_minor": 2
}
