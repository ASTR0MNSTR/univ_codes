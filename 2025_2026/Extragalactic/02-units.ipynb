{
 "cells": [
  {
   "cell_type": "markdown",
   "id": "47dddf58-3c5c-4e5e-b74c-18898e42b5e9",
   "metadata": {},
   "source": [
    "## Aim of this class is to get familiar with astropy units"
   ]
  },
  {
   "cell_type": "code",
   "execution_count": 1,
   "id": "9835a11a-5333-4056-8af5-e22479367219",
   "metadata": {},
   "outputs": [],
   "source": [
    "import pandas as pd\n",
    "from pandas import DataFrame as df\n",
    "from astropy.io import fits\n",
    "from astropy.table import Table"
   ]
  },
  {
   "cell_type": "code",
   "execution_count": 2,
   "id": "456da738-1374-4df1-956d-58e9914dae3e",
   "metadata": {},
   "outputs": [],
   "source": [
    "from astropy.coordinates import SkyCoord\n",
    "from astropy import units as u"
   ]
  },
  {
   "cell_type": "code",
   "execution_count": 3,
   "id": "b5314a25-8496-45bf-9443-a3a595d8c69f",
   "metadata": {},
   "outputs": [],
   "source": [
    "import numpy as np"
   ]
  },
  {
   "cell_type": "markdown",
   "id": "c5222ff8-d6d9-4609-90eb-4ab0a04969fc",
   "metadata": {},
   "source": [
    "### TASK 1: what is a parsec?"
   ]
  },
  {
   "cell_type": "code",
   "execution_count": 4,
   "id": "22dd03b3-a503-4674-aa54-67ba2adc92ed",
   "metadata": {},
   "outputs": [
    {
     "data": {
      "text/latex": [
       "$206264.81 \\; \\mathrm{AU}$"
      ],
      "text/plain": [
       "<Quantity 206264.80624548 AU>"
      ]
     },
     "execution_count": 4,
     "metadata": {},
     "output_type": "execute_result"
    }
   ],
   "source": [
    "dist = 1 * u.au / np.tan(1 * u.arcsec)\n",
    "\n",
    "dist"
   ]
  },
  {
   "cell_type": "markdown",
   "id": "9ac7fe46-13ab-42cf-b037-5feb800dcfb4",
   "metadata": {},
   "source": [
    "### TASK 2: using `astropy.units` calculate back and forth au, km, lyr, pc ;)"
   ]
  },
  {
   "cell_type": "code",
   "execution_count": 5,
   "id": "90420ccb-d60d-4c8f-8f09-e9328576420d",
   "metadata": {},
   "outputs": [
    {
     "data": {
      "text/plain": [
       "149597870.7"
      ]
     },
     "execution_count": 5,
     "metadata": {},
     "output_type": "execute_result"
    }
   ],
   "source": [
    "u.AU.to(u.km)"
   ]
  },
  {
   "cell_type": "code",
   "execution_count": 6,
   "id": "3cc2f493-4c23-4198-aff6-cfa816c31843",
   "metadata": {},
   "outputs": [
    {
     "data": {
      "text/plain": [
       "63241.07708426628"
      ]
     },
     "execution_count": 6,
     "metadata": {},
     "output_type": "execute_result"
    }
   ],
   "source": [
    "u.lyr.to(u.AU)"
   ]
  },
  {
   "cell_type": "code",
   "execution_count": 7,
   "id": "5d4902bb",
   "metadata": {},
   "outputs": [
    {
     "data": {
      "text/plain": [
       "9460730472580.8"
      ]
     },
     "execution_count": 7,
     "metadata": {},
     "output_type": "execute_result"
    }
   ],
   "source": [
    "u.lyr.to(u.km)"
   ]
  },
  {
   "cell_type": "code",
   "execution_count": 8,
   "id": "7da5d0a6-414a-4a4d-a39a-7f386b7ace88",
   "metadata": {},
   "outputs": [
    {
     "data": {
      "text/plain": [
       "30856775814913.67"
      ]
     },
     "execution_count": 8,
     "metadata": {},
     "output_type": "execute_result"
    }
   ],
   "source": [
    "u.pc.to(u.km)"
   ]
  },
  {
   "cell_type": "code",
   "execution_count": 9,
   "id": "edd01ac4",
   "metadata": {},
   "outputs": [
    {
     "data": {
      "text/plain": [
       "206264.80624709636"
      ]
     },
     "execution_count": 9,
     "metadata": {},
     "output_type": "execute_result"
    }
   ],
   "source": [
    "u.pc.to(u.AU)"
   ]
  },
  {
   "cell_type": "code",
   "execution_count": 10,
   "id": "a4ee1737",
   "metadata": {},
   "outputs": [
    {
     "data": {
      "text/plain": [
       "3.2615637771674333"
      ]
     },
     "execution_count": 10,
     "metadata": {},
     "output_type": "execute_result"
    }
   ],
   "source": [
    "u.pc.to(u.lyr)"
   ]
  },
  {
   "cell_type": "markdown",
   "id": "f5a9ddfa-c823-4738-a800-91ef654b0d64",
   "metadata": {},
   "source": [
    "### TASK 3: how long does it take to \"see\" emission from SgrA*?"
   ]
  },
  {
   "cell_type": "code",
   "execution_count": 11,
   "id": "ac2f1def-389b-4aff-914f-d1e01f079b47",
   "metadata": {},
   "outputs": [
    {
     "data": {
      "text/plain": [
       "26092.510217339466"
      ]
     },
     "execution_count": 11,
     "metadata": {},
     "output_type": "execute_result"
    }
   ],
   "source": [
    "8*u.kpc.to(u.lyr)"
   ]
  },
  {
   "cell_type": "markdown",
   "id": "d060b32a-00d7-4098-b017-80f97f062b5e",
   "metadata": {},
   "source": [
    "### TASK 4: redshift to distance"
   ]
  },
  {
   "cell_type": "code",
   "execution_count": 12,
   "id": "f85cd039-d194-46da-b522-965c0d8c8d63",
   "metadata": {},
   "outputs": [],
   "source": [
    "import astropy.units as u\n",
    "import astropy.cosmology.units as cu\n",
    "from astropy.cosmology import Planck18 as cosm"
   ]
  },
  {
   "cell_type": "code",
   "execution_count": 13,
   "id": "57ee4ad0-4716-497a-9408-894e683aede1",
   "metadata": {},
   "outputs": [
    {
     "data": {
      "text/latex": [
       "$1726.4468 \\; \\mathrm{Mpc}$"
      ],
      "text/plain": [
       "<Quantity 1726.44683373 Mpc>"
      ]
     },
     "execution_count": 13,
     "metadata": {},
     "output_type": "execute_result"
    }
   ],
   "source": [
    "dist = cosm.luminosity_distance(z=0.32)\n",
    "\n",
    "dist"
   ]
  },
  {
   "cell_type": "code",
   "execution_count": 15,
   "id": "6f01a496",
   "metadata": {},
   "outputs": [
    {
     "data": {
      "text/latex": [
       "$1307.9143 \\; \\mathrm{Mpc}$"
      ],
      "text/plain": [
       "<Quantity 1307.91426797 Mpc>"
      ]
     },
     "execution_count": 15,
     "metadata": {},
     "output_type": "execute_result"
    }
   ],
   "source": [
    "z = .32 * cu.redshift\n",
    "\n",
    "dist = z.to(u.Mpc, cu.redshift_distance(cosm, kind='comoving'))\n",
    "\n",
    "dist"
   ]
  },
  {
   "cell_type": "markdown",
   "id": "d68e4812-2b71-4e89-9951-0a7ea88b4417",
   "metadata": {},
   "source": [
    "### Task 4: What is the nearest and furthest away galaxy in magphys catalogue? (what are the distances?)\n",
    "#### have a look at the nearest one in optical (e.g., https://skyserver.sdss.org/dr19/VisualTools/navi)"
   ]
  },
  {
   "cell_type": "code",
   "execution_count": 16,
   "id": "e23b53aa-1280-4045-8857-9f187a2eac7f",
   "metadata": {},
   "outputs": [],
   "source": [
    "szuflada_path = '/home/SZUFLADA/PN/extragalactic_classes/gama_dr4/'\n",
    "# szuflada_path = '../agn_vs_dust/gama_data_dr4/'\n",
    "magphys_path = szuflada_path + 'MagPhysv06.fits'"
   ]
  },
  {
   "cell_type": "code",
   "execution_count": 17,
   "id": "a9b2c87c-39f2-4565-9300-0518cc0a420e",
   "metadata": {},
   "outputs": [
    {
     "data": {
      "text/html": [
       "<div>\n",
       "<style scoped>\n",
       "    .dataframe tbody tr th:only-of-type {\n",
       "        vertical-align: middle;\n",
       "    }\n",
       "\n",
       "    .dataframe tbody tr th {\n",
       "        vertical-align: top;\n",
       "    }\n",
       "\n",
       "    .dataframe thead th {\n",
       "        text-align: right;\n",
       "    }\n",
       "</style>\n",
       "<table border=\"1\" class=\"dataframe\">\n",
       "  <thead>\n",
       "    <tr style=\"text-align: right;\">\n",
       "      <th></th>\n",
       "      <th>CATAID</th>\n",
       "      <th>Z</th>\n",
       "      <th>f_mu_SFH_best_fit</th>\n",
       "      <th>f_mu_SFH_percentile2_5</th>\n",
       "      <th>f_mu_SFH_percentile16</th>\n",
       "      <th>f_mu_SFH_percentile50</th>\n",
       "      <th>f_mu_SFH_percentile84</th>\n",
       "      <th>f_mu_SFH_percentile97_5</th>\n",
       "      <th>f_mu_IR_best_fit</th>\n",
       "      <th>f_mu_IR_percentile2_5</th>\n",
       "      <th>...</th>\n",
       "      <th>fb19_percentile84</th>\n",
       "      <th>fb19_percentile97_5</th>\n",
       "      <th>fb29_percentile2_5</th>\n",
       "      <th>fb29_percentile16</th>\n",
       "      <th>fb29_percentile50</th>\n",
       "      <th>fb29_percentile84</th>\n",
       "      <th>fb29_percentile97_5</th>\n",
       "      <th>URL_SED</th>\n",
       "      <th>URL_FIT</th>\n",
       "      <th>URL_PNG</th>\n",
       "    </tr>\n",
       "  </thead>\n",
       "  <tbody>\n",
       "    <tr>\n",
       "      <th>0</th>\n",
       "      <td>6802</td>\n",
       "      <td>0.0505</td>\n",
       "      <td>0.207</td>\n",
       "      <td>0.207</td>\n",
       "      <td>0.367</td>\n",
       "      <td>0.449</td>\n",
       "      <td>0.485</td>\n",
       "      <td>0.878</td>\n",
       "      <td>0.088</td>\n",
       "      <td>0.139</td>\n",
       "      <td>...</td>\n",
       "      <td>0.0005</td>\n",
       "      <td>0.1495</td>\n",
       "      <td>0.0005</td>\n",
       "      <td>0.0005</td>\n",
       "      <td>0.0005</td>\n",
       "      <td>0.2155</td>\n",
       "      <td>0.6825</td>\n",
       "      <td>http://www.gama-survey.org/dr4/data/files/MagP...</td>\n",
       "      <td>http://www.gama-survey.org/dr4/data/files/MagP...</td>\n",
       "      <td>http://www.gama-survey.org/dr4/data/files/MagP...</td>\n",
       "    </tr>\n",
       "    <tr>\n",
       "      <th>1</th>\n",
       "      <td>6803</td>\n",
       "      <td>0.1603</td>\n",
       "      <td>0.896</td>\n",
       "      <td>0.743</td>\n",
       "      <td>0.856</td>\n",
       "      <td>0.917</td>\n",
       "      <td>0.967</td>\n",
       "      <td>0.993</td>\n",
       "      <td>0.793</td>\n",
       "      <td>0.687</td>\n",
       "      <td>...</td>\n",
       "      <td>0.0005</td>\n",
       "      <td>0.0105</td>\n",
       "      <td>0.0005</td>\n",
       "      <td>0.0005</td>\n",
       "      <td>0.0005</td>\n",
       "      <td>0.0015</td>\n",
       "      <td>0.1395</td>\n",
       "      <td>http://www.gama-survey.org/dr4/data/files/MagP...</td>\n",
       "      <td>http://www.gama-survey.org/dr4/data/files/MagP...</td>\n",
       "      <td>http://www.gama-survey.org/dr4/data/files/MagP...</td>\n",
       "    </tr>\n",
       "    <tr>\n",
       "      <th>2</th>\n",
       "      <td>6804</td>\n",
       "      <td>0.2188</td>\n",
       "      <td>0.294</td>\n",
       "      <td>0.114</td>\n",
       "      <td>0.189</td>\n",
       "      <td>0.254</td>\n",
       "      <td>0.337</td>\n",
       "      <td>0.390</td>\n",
       "      <td>0.174</td>\n",
       "      <td>0.051</td>\n",
       "      <td>...</td>\n",
       "      <td>0.0005</td>\n",
       "      <td>0.0795</td>\n",
       "      <td>0.0005</td>\n",
       "      <td>0.0005</td>\n",
       "      <td>0.0005</td>\n",
       "      <td>0.0565</td>\n",
       "      <td>0.2355</td>\n",
       "      <td>http://www.gama-survey.org/dr4/data/files/MagP...</td>\n",
       "      <td>http://www.gama-survey.org/dr4/data/files/MagP...</td>\n",
       "      <td>http://www.gama-survey.org/dr4/data/files/MagP...</td>\n",
       "    </tr>\n",
       "    <tr>\n",
       "      <th>3</th>\n",
       "      <td>6805</td>\n",
       "      <td>0.3324</td>\n",
       "      <td>0.813</td>\n",
       "      <td>0.376</td>\n",
       "      <td>0.616</td>\n",
       "      <td>0.789</td>\n",
       "      <td>0.891</td>\n",
       "      <td>0.984</td>\n",
       "      <td>0.700</td>\n",
       "      <td>0.377</td>\n",
       "      <td>...</td>\n",
       "      <td>0.4375</td>\n",
       "      <td>0.6635</td>\n",
       "      <td>0.1235</td>\n",
       "      <td>0.2345</td>\n",
       "      <td>0.5595</td>\n",
       "      <td>0.7305</td>\n",
       "      <td>0.8315</td>\n",
       "      <td>http://www.gama-survey.org/dr4/data/files/MagP...</td>\n",
       "      <td>http://www.gama-survey.org/dr4/data/files/MagP...</td>\n",
       "      <td>http://www.gama-survey.org/dr4/data/files/MagP...</td>\n",
       "    </tr>\n",
       "    <tr>\n",
       "      <th>4</th>\n",
       "      <td>6806</td>\n",
       "      <td>0.3312</td>\n",
       "      <td>0.491</td>\n",
       "      <td>0.471</td>\n",
       "      <td>0.489</td>\n",
       "      <td>0.521</td>\n",
       "      <td>0.540</td>\n",
       "      <td>0.563</td>\n",
       "      <td>0.636</td>\n",
       "      <td>0.361</td>\n",
       "      <td>...</td>\n",
       "      <td>0.0005</td>\n",
       "      <td>0.3155</td>\n",
       "      <td>0.0005</td>\n",
       "      <td>0.0005</td>\n",
       "      <td>0.0005</td>\n",
       "      <td>0.3305</td>\n",
       "      <td>0.7145</td>\n",
       "      <td>http://www.gama-survey.org/dr4/data/files/MagP...</td>\n",
       "      <td>http://www.gama-survey.org/dr4/data/files/MagP...</td>\n",
       "      <td>http://www.gama-survey.org/dr4/data/files/MagP...</td>\n",
       "    </tr>\n",
       "    <tr>\n",
       "      <th>...</th>\n",
       "      <td>...</td>\n",
       "      <td>...</td>\n",
       "      <td>...</td>\n",
       "      <td>...</td>\n",
       "      <td>...</td>\n",
       "      <td>...</td>\n",
       "      <td>...</td>\n",
       "      <td>...</td>\n",
       "      <td>...</td>\n",
       "      <td>...</td>\n",
       "      <td>...</td>\n",
       "      <td>...</td>\n",
       "      <td>...</td>\n",
       "      <td>...</td>\n",
       "      <td>...</td>\n",
       "      <td>...</td>\n",
       "      <td>...</td>\n",
       "      <td>...</td>\n",
       "      <td>...</td>\n",
       "      <td>...</td>\n",
       "      <td>...</td>\n",
       "    </tr>\n",
       "    <tr>\n",
       "      <th>197489</th>\n",
       "      <td>4342359</td>\n",
       "      <td>0.6461</td>\n",
       "      <td>0.386</td>\n",
       "      <td>0.257</td>\n",
       "      <td>0.315</td>\n",
       "      <td>0.390</td>\n",
       "      <td>0.447</td>\n",
       "      <td>0.832</td>\n",
       "      <td>0.394</td>\n",
       "      <td>0.206</td>\n",
       "      <td>...</td>\n",
       "      <td>0.0555</td>\n",
       "      <td>0.2355</td>\n",
       "      <td>0.0005</td>\n",
       "      <td>0.0005</td>\n",
       "      <td>0.0005</td>\n",
       "      <td>0.0565</td>\n",
       "      <td>0.6485</td>\n",
       "      <td>http://www.gama-survey.org/dr4/data/files/MagP...</td>\n",
       "      <td>http://www.gama-survey.org/dr4/data/files/MagP...</td>\n",
       "      <td>http://www.gama-survey.org/dr4/data/files/MagP...</td>\n",
       "    </tr>\n",
       "    <tr>\n",
       "      <th>197490</th>\n",
       "      <td>4345057</td>\n",
       "      <td>0.7930</td>\n",
       "      <td>0.549</td>\n",
       "      <td>0.486</td>\n",
       "      <td>0.539</td>\n",
       "      <td>0.570</td>\n",
       "      <td>0.605</td>\n",
       "      <td>0.658</td>\n",
       "      <td>0.444</td>\n",
       "      <td>0.411</td>\n",
       "      <td>...</td>\n",
       "      <td>0.0005</td>\n",
       "      <td>0.0545</td>\n",
       "      <td>0.0005</td>\n",
       "      <td>0.0005</td>\n",
       "      <td>0.0005</td>\n",
       "      <td>0.0495</td>\n",
       "      <td>0.5845</td>\n",
       "      <td>http://www.gama-survey.org/dr4/data/files/MagP...</td>\n",
       "      <td>http://www.gama-survey.org/dr4/data/files/MagP...</td>\n",
       "      <td>http://www.gama-survey.org/dr4/data/files/MagP...</td>\n",
       "    </tr>\n",
       "    <tr>\n",
       "      <th>197491</th>\n",
       "      <td>4345978</td>\n",
       "      <td>0.6111</td>\n",
       "      <td>0.938</td>\n",
       "      <td>0.473</td>\n",
       "      <td>0.499</td>\n",
       "      <td>0.533</td>\n",
       "      <td>0.578</td>\n",
       "      <td>0.935</td>\n",
       "      <td>0.806</td>\n",
       "      <td>0.371</td>\n",
       "      <td>...</td>\n",
       "      <td>0.1275</td>\n",
       "      <td>0.5905</td>\n",
       "      <td>0.0005</td>\n",
       "      <td>0.0005</td>\n",
       "      <td>0.0005</td>\n",
       "      <td>0.2485</td>\n",
       "      <td>0.6895</td>\n",
       "      <td>http://www.gama-survey.org/dr4/data/files/MagP...</td>\n",
       "      <td>http://www.gama-survey.org/dr4/data/files/MagP...</td>\n",
       "      <td>http://www.gama-survey.org/dr4/data/files/MagP...</td>\n",
       "    </tr>\n",
       "    <tr>\n",
       "      <th>197492</th>\n",
       "      <td>4347483</td>\n",
       "      <td>0.5960</td>\n",
       "      <td>0.612</td>\n",
       "      <td>0.535</td>\n",
       "      <td>0.560</td>\n",
       "      <td>0.598</td>\n",
       "      <td>0.633</td>\n",
       "      <td>0.675</td>\n",
       "      <td>0.468</td>\n",
       "      <td>0.432</td>\n",
       "      <td>...</td>\n",
       "      <td>0.0445</td>\n",
       "      <td>0.3645</td>\n",
       "      <td>0.0005</td>\n",
       "      <td>0.0005</td>\n",
       "      <td>0.0005</td>\n",
       "      <td>0.4925</td>\n",
       "      <td>0.7665</td>\n",
       "      <td>http://www.gama-survey.org/dr4/data/files/MagP...</td>\n",
       "      <td>http://www.gama-survey.org/dr4/data/files/MagP...</td>\n",
       "      <td>http://www.gama-survey.org/dr4/data/files/MagP...</td>\n",
       "    </tr>\n",
       "    <tr>\n",
       "      <th>197493</th>\n",
       "      <td>4348349</td>\n",
       "      <td>0.1226</td>\n",
       "      <td>0.893</td>\n",
       "      <td>0.401</td>\n",
       "      <td>0.499</td>\n",
       "      <td>0.731</td>\n",
       "      <td>0.946</td>\n",
       "      <td>0.998</td>\n",
       "      <td>0.927</td>\n",
       "      <td>0.341</td>\n",
       "      <td>...</td>\n",
       "      <td>0.7795</td>\n",
       "      <td>0.8155</td>\n",
       "      <td>0.0005</td>\n",
       "      <td>0.0005</td>\n",
       "      <td>0.5355</td>\n",
       "      <td>0.7825</td>\n",
       "      <td>0.8155</td>\n",
       "      <td>http://www.gama-survey.org/dr4/data/files/MagP...</td>\n",
       "      <td>http://www.gama-survey.org/dr4/data/files/MagP...</td>\n",
       "      <td>http://www.gama-survey.org/dr4/data/files/MagP...</td>\n",
       "    </tr>\n",
       "  </tbody>\n",
       "</table>\n",
       "<p>197494 rows × 181 columns</p>\n",
       "</div>"
      ],
      "text/plain": [
       "         CATAID       Z  f_mu_SFH_best_fit  f_mu_SFH_percentile2_5  \\\n",
       "0          6802  0.0505              0.207                   0.207   \n",
       "1          6803  0.1603              0.896                   0.743   \n",
       "2          6804  0.2188              0.294                   0.114   \n",
       "3          6805  0.3324              0.813                   0.376   \n",
       "4          6806  0.3312              0.491                   0.471   \n",
       "...         ...     ...                ...                     ...   \n",
       "197489  4342359  0.6461              0.386                   0.257   \n",
       "197490  4345057  0.7930              0.549                   0.486   \n",
       "197491  4345978  0.6111              0.938                   0.473   \n",
       "197492  4347483  0.5960              0.612                   0.535   \n",
       "197493  4348349  0.1226              0.893                   0.401   \n",
       "\n",
       "        f_mu_SFH_percentile16  f_mu_SFH_percentile50  f_mu_SFH_percentile84  \\\n",
       "0                       0.367                  0.449                  0.485   \n",
       "1                       0.856                  0.917                  0.967   \n",
       "2                       0.189                  0.254                  0.337   \n",
       "3                       0.616                  0.789                  0.891   \n",
       "4                       0.489                  0.521                  0.540   \n",
       "...                       ...                    ...                    ...   \n",
       "197489                  0.315                  0.390                  0.447   \n",
       "197490                  0.539                  0.570                  0.605   \n",
       "197491                  0.499                  0.533                  0.578   \n",
       "197492                  0.560                  0.598                  0.633   \n",
       "197493                  0.499                  0.731                  0.946   \n",
       "\n",
       "        f_mu_SFH_percentile97_5  f_mu_IR_best_fit  f_mu_IR_percentile2_5  ...  \\\n",
       "0                         0.878             0.088                  0.139  ...   \n",
       "1                         0.993             0.793                  0.687  ...   \n",
       "2                         0.390             0.174                  0.051  ...   \n",
       "3                         0.984             0.700                  0.377  ...   \n",
       "4                         0.563             0.636                  0.361  ...   \n",
       "...                         ...               ...                    ...  ...   \n",
       "197489                    0.832             0.394                  0.206  ...   \n",
       "197490                    0.658             0.444                  0.411  ...   \n",
       "197491                    0.935             0.806                  0.371  ...   \n",
       "197492                    0.675             0.468                  0.432  ...   \n",
       "197493                    0.998             0.927                  0.341  ...   \n",
       "\n",
       "        fb19_percentile84  fb19_percentile97_5  fb29_percentile2_5  \\\n",
       "0                  0.0005               0.1495              0.0005   \n",
       "1                  0.0005               0.0105              0.0005   \n",
       "2                  0.0005               0.0795              0.0005   \n",
       "3                  0.4375               0.6635              0.1235   \n",
       "4                  0.0005               0.3155              0.0005   \n",
       "...                   ...                  ...                 ...   \n",
       "197489             0.0555               0.2355              0.0005   \n",
       "197490             0.0005               0.0545              0.0005   \n",
       "197491             0.1275               0.5905              0.0005   \n",
       "197492             0.0445               0.3645              0.0005   \n",
       "197493             0.7795               0.8155              0.0005   \n",
       "\n",
       "        fb29_percentile16  fb29_percentile50  fb29_percentile84  \\\n",
       "0                  0.0005             0.0005             0.2155   \n",
       "1                  0.0005             0.0005             0.0015   \n",
       "2                  0.0005             0.0005             0.0565   \n",
       "3                  0.2345             0.5595             0.7305   \n",
       "4                  0.0005             0.0005             0.3305   \n",
       "...                   ...                ...                ...   \n",
       "197489             0.0005             0.0005             0.0565   \n",
       "197490             0.0005             0.0005             0.0495   \n",
       "197491             0.0005             0.0005             0.2485   \n",
       "197492             0.0005             0.0005             0.4925   \n",
       "197493             0.0005             0.5355             0.7825   \n",
       "\n",
       "        fb29_percentile97_5  \\\n",
       "0                    0.6825   \n",
       "1                    0.1395   \n",
       "2                    0.2355   \n",
       "3                    0.8315   \n",
       "4                    0.7145   \n",
       "...                     ...   \n",
       "197489               0.6485   \n",
       "197490               0.5845   \n",
       "197491               0.6895   \n",
       "197492               0.7665   \n",
       "197493               0.8155   \n",
       "\n",
       "                                                  URL_SED  \\\n",
       "0       http://www.gama-survey.org/dr4/data/files/MagP...   \n",
       "1       http://www.gama-survey.org/dr4/data/files/MagP...   \n",
       "2       http://www.gama-survey.org/dr4/data/files/MagP...   \n",
       "3       http://www.gama-survey.org/dr4/data/files/MagP...   \n",
       "4       http://www.gama-survey.org/dr4/data/files/MagP...   \n",
       "...                                                   ...   \n",
       "197489  http://www.gama-survey.org/dr4/data/files/MagP...   \n",
       "197490  http://www.gama-survey.org/dr4/data/files/MagP...   \n",
       "197491  http://www.gama-survey.org/dr4/data/files/MagP...   \n",
       "197492  http://www.gama-survey.org/dr4/data/files/MagP...   \n",
       "197493  http://www.gama-survey.org/dr4/data/files/MagP...   \n",
       "\n",
       "                                                  URL_FIT  \\\n",
       "0       http://www.gama-survey.org/dr4/data/files/MagP...   \n",
       "1       http://www.gama-survey.org/dr4/data/files/MagP...   \n",
       "2       http://www.gama-survey.org/dr4/data/files/MagP...   \n",
       "3       http://www.gama-survey.org/dr4/data/files/MagP...   \n",
       "4       http://www.gama-survey.org/dr4/data/files/MagP...   \n",
       "...                                                   ...   \n",
       "197489  http://www.gama-survey.org/dr4/data/files/MagP...   \n",
       "197490  http://www.gama-survey.org/dr4/data/files/MagP...   \n",
       "197491  http://www.gama-survey.org/dr4/data/files/MagP...   \n",
       "197492  http://www.gama-survey.org/dr4/data/files/MagP...   \n",
       "197493  http://www.gama-survey.org/dr4/data/files/MagP...   \n",
       "\n",
       "                                                  URL_PNG  \n",
       "0       http://www.gama-survey.org/dr4/data/files/MagP...  \n",
       "1       http://www.gama-survey.org/dr4/data/files/MagP...  \n",
       "2       http://www.gama-survey.org/dr4/data/files/MagP...  \n",
       "3       http://www.gama-survey.org/dr4/data/files/MagP...  \n",
       "4       http://www.gama-survey.org/dr4/data/files/MagP...  \n",
       "...                                                   ...  \n",
       "197489  http://www.gama-survey.org/dr4/data/files/MagP...  \n",
       "197490  http://www.gama-survey.org/dr4/data/files/MagP...  \n",
       "197491  http://www.gama-survey.org/dr4/data/files/MagP...  \n",
       "197492  http://www.gama-survey.org/dr4/data/files/MagP...  \n",
       "197493  http://www.gama-survey.org/dr4/data/files/MagP...  \n",
       "\n",
       "[197494 rows x 181 columns]"
      ]
     },
     "execution_count": 17,
     "metadata": {},
     "output_type": "execute_result"
    }
   ],
   "source": [
    "with fits.open(magphys_path) as hdul:\n",
    "   data = hdul[1].data\n",
    "\n",
    "table = Table(data)\n",
    "magphys = table.to_pandas()\n",
    "\n",
    "magphys"
   ]
  },
  {
   "cell_type": "code",
   "execution_count": 19,
   "id": "bce64283",
   "metadata": {},
   "outputs": [
    {
     "ename": "AttributeError",
     "evalue": "'Series' object has no attribute 'to'",
     "output_type": "error",
     "traceback": [
      "\u001b[0;31m---------------------------------------------------------------------------\u001b[0m",
      "\u001b[0;31mAttributeError\u001b[0m                            Traceback (most recent call last)",
      "Cell \u001b[0;32mIn [19], line 1\u001b[0m\n\u001b[0;32m----> 1\u001b[0m magphys[\u001b[38;5;124m'\u001b[39m\u001b[38;5;124mDIST_MPC\u001b[39m\u001b[38;5;124m'\u001b[39m] \u001b[38;5;241m=\u001b[39m \u001b[43m(\u001b[49m\u001b[43mmagphys\u001b[49m\u001b[43m[\u001b[49m\u001b[38;5;124;43m'\u001b[39;49m\u001b[38;5;124;43mZ\u001b[39;49m\u001b[38;5;124;43m'\u001b[39;49m\u001b[43m]\u001b[49m\u001b[43m \u001b[49m\u001b[38;5;241;43m*\u001b[39;49m\u001b[43m \u001b[49m\u001b[43mcu\u001b[49m\u001b[38;5;241;43m.\u001b[39;49m\u001b[43mredshift\u001b[49m\u001b[43m)\u001b[49m\u001b[38;5;241;43m.\u001b[39;49m\u001b[43mto\u001b[49m(u\u001b[38;5;241m.\u001b[39mMpc, cu\u001b[38;5;241m.\u001b[39mredshift_distance(cosm, kind\u001b[38;5;241m=\u001b[39m\u001b[38;5;124m'\u001b[39m\u001b[38;5;124mcomoving\u001b[39m\u001b[38;5;124m'\u001b[39m))\n",
      "File \u001b[0;32m/usr/local/lib/python3.9/dist-packages/pandas/core/generic.py:5902\u001b[0m, in \u001b[0;36mNDFrame.__getattr__\u001b[0;34m(self, name)\u001b[0m\n\u001b[1;32m   5895\u001b[0m \u001b[38;5;28;01mif\u001b[39;00m (\n\u001b[1;32m   5896\u001b[0m     name \u001b[38;5;129;01mnot\u001b[39;00m \u001b[38;5;129;01min\u001b[39;00m \u001b[38;5;28mself\u001b[39m\u001b[38;5;241m.\u001b[39m_internal_names_set\n\u001b[1;32m   5897\u001b[0m     \u001b[38;5;129;01mand\u001b[39;00m name \u001b[38;5;129;01mnot\u001b[39;00m \u001b[38;5;129;01min\u001b[39;00m \u001b[38;5;28mself\u001b[39m\u001b[38;5;241m.\u001b[39m_metadata\n\u001b[1;32m   5898\u001b[0m     \u001b[38;5;129;01mand\u001b[39;00m name \u001b[38;5;129;01mnot\u001b[39;00m \u001b[38;5;129;01min\u001b[39;00m \u001b[38;5;28mself\u001b[39m\u001b[38;5;241m.\u001b[39m_accessors\n\u001b[1;32m   5899\u001b[0m     \u001b[38;5;129;01mand\u001b[39;00m \u001b[38;5;28mself\u001b[39m\u001b[38;5;241m.\u001b[39m_info_axis\u001b[38;5;241m.\u001b[39m_can_hold_identifiers_and_holds_name(name)\n\u001b[1;32m   5900\u001b[0m ):\n\u001b[1;32m   5901\u001b[0m     \u001b[38;5;28;01mreturn\u001b[39;00m \u001b[38;5;28mself\u001b[39m[name]\n\u001b[0;32m-> 5902\u001b[0m \u001b[38;5;28;01mreturn\u001b[39;00m \u001b[38;5;28;43mobject\u001b[39;49m\u001b[38;5;241;43m.\u001b[39;49m\u001b[38;5;21;43m__getattribute__\u001b[39;49m\u001b[43m(\u001b[49m\u001b[38;5;28;43mself\u001b[39;49m\u001b[43m,\u001b[49m\u001b[43m \u001b[49m\u001b[43mname\u001b[49m\u001b[43m)\u001b[49m\n",
      "\u001b[0;31mAttributeError\u001b[0m: 'Series' object has no attribute 'to'"
     ]
    }
   ],
   "source": [
    "# magphys['DIST_MPC'] = (magphys['Z'] * cu.redshift).to(u.Mpc, cu.redshift_distance(cosm, kind='comoving'))"
   ]
  },
  {
   "cell_type": "markdown",
   "id": "7d0eb17e-6e24-47cd-8012-60472a0afaee",
   "metadata": {},
   "source": [
    "### TASK 5: What redshift ranges can you confirm using the [OIII] and [NII] doublet emission from galaxies, having the ability to take spectra with JWST NIRSpec G395M/F290LP disperser-filter combination?\n",
    "#### Why those doublets are great for z confirmations?"
   ]
  },
  {
   "cell_type": "code",
   "execution_count": null,
   "id": "c22dfa7f-3897-47b9-9abc-44d9c0bc224d",
   "metadata": {},
   "outputs": [],
   "source": []
  }
 ],
 "metadata": {
  "kernelspec": {
   "display_name": "Python 3 (ipykernel)",
   "language": "python",
   "name": "python3"
  },
  "language_info": {
   "codemirror_mode": {
    "name": "ipython",
    "version": 3
   },
   "file_extension": ".py",
   "mimetype": "text/x-python",
   "name": "python",
   "nbconvert_exporter": "python",
   "pygments_lexer": "ipython3",
   "version": "3.9.2"
  }
 },
 "nbformat": 4,
 "nbformat_minor": 5
}
