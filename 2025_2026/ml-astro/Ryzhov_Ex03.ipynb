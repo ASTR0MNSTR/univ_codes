{
 "cells": [
  {
   "cell_type": "code",
   "execution_count": 14,
   "id": "1efb6732",
   "metadata": {},
   "outputs": [
    {
     "data": {
      "text/plain": [
       "'05 34 31.8'"
      ]
     },
     "execution_count": 14,
     "metadata": {},
     "output_type": "execute_result"
    }
   ],
   "source": [
    "from astroquery.simbad import Simbad\n",
    "result_table = Simbad.query_object(\"m1\")   #result_table has one element\n",
    "result_table[0]                            #show the content \n",
    "result_table[0][1]                         #show the second field in the record (R.A.)\n",
    "                         #show the third field in the record (Dec)"
   ]
  },
  {
   "cell_type": "code",
   "execution_count": 15,
   "id": "d51a0b31",
   "metadata": {},
   "outputs": [
    {
     "data": {
      "text/plain": [
       "'+22 01 03'"
      ]
     },
     "execution_count": 15,
     "metadata": {},
     "output_type": "execute_result"
    }
   ],
   "source": [
    "result_table[0][2]"
   ]
  },
  {
   "cell_type": "code",
   "execution_count": 16,
   "id": "e706cfa0",
   "metadata": {},
   "outputs": [
    {
     "name": "stdout",
     "output_type": "stream",
     "text": [
      "RA [deg]: 83.63250000000001\n",
      "DEC [deg]: 22.0175\n"
     ]
    }
   ],
   "source": [
    "RA_HH, RA_MM, RA_SS = [float(item) for item in result_table[0][1].split()]\n",
    "DEC_DEG, DEC_MM, DEC_SS = [float(item) for item in result_table[0][2].split()]\n",
    "\n",
    "print(f'RA [deg]: {(RA_HH + RA_MM/60 + RA_SS/3600)*360/24}')\n",
    "print(f'DEC [deg]: {DEC_DEG + (DEC_MM/60) + (DEC_SS/3600)}')"
   ]
  },
  {
   "cell_type": "code",
   "execution_count": null,
   "id": "6b158b79",
   "metadata": {},
   "outputs": [],
   "source": []
  }
 ],
 "metadata": {
  "kernelspec": {
   "display_name": "Python 3 (ipykernel)",
   "language": "python",
   "name": "python3"
  },
  "language_info": {
   "codemirror_mode": {
    "name": "ipython",
    "version": 3
   },
   "file_extension": ".py",
   "mimetype": "text/x-python",
   "name": "python",
   "nbconvert_exporter": "python",
   "pygments_lexer": "ipython3",
   "version": "3.9.2"
  }
 },
 "nbformat": 4,
 "nbformat_minor": 5
}
